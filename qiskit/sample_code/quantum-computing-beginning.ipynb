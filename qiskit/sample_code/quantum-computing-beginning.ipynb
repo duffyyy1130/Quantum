{
 "cells": [
  {
   "cell_type": "markdown",
   "metadata": {},
   "source": [
    "# 量子アニーリングマシン"
   ]
  },
  {
   "cell_type": "code",
   "execution_count": 3,
   "metadata": {},
   "outputs": [],
   "source": [
    "import pyqubo\n",
    "import dimod"
   ]
  },
  {
   "cell_type": "markdown",
   "metadata": {},
   "source": [
    "# 量子ゲートマシン"
   ]
  },
  {
   "cell_type": "markdown",
   "metadata": {},
   "source": [
    "# 1ビット演算"
   ]
  },
  {
   "cell_type": "markdown",
   "metadata": {},
   "source": [
    "## code4.2 1量子ビット"
   ]
  },
  {
   "cell_type": "code",
   "execution_count": 2,
   "metadata": {},
   "outputs": [],
   "source": [
    "import qiskit\n",
    "#量子ビットモジュール\n",
    "from qiskit import QuantumRegister\n",
    "from qiskit import QuantumCircuit\n",
    "#古典ビットモジュール\n",
    "from qiskit import ClassicalRegister\n",
    "from qiskit import Aer\n",
    "from qiskit import execute"
   ]
  },
  {
   "cell_type": "code",
   "execution_count": 3,
   "metadata": {},
   "outputs": [],
   "source": [
    "# 1 量子ビットを定義する\n",
    "q1 = QuantumRegister(1)\n",
    "# 1 古典ビットを定義する\n",
    "c1 = ClassicalRegister(1)\n",
    "# 結果の個数をカウントする\n",
    "def get_result(qc, shots=1):\n",
    "    simulator = Aer.get_backend('qasm_simulator')\n",
    "    return execute(qc, simulator, shots=shots).result().get_counts(qc)\n",
    "# 行列を表示する\n",
    "def get_unitary(qc):\n",
    "    simulator = Aer.get_backend('unitary_simulator') \n",
    "    return execute(qc, simulator).result().get_unitary(qc)"
   ]
  },
  {
   "cell_type": "markdown",
   "metadata": {},
   "source": [
    "## code4.3 1ビット測定"
   ]
  },
  {
   "cell_type": "code",
   "execution_count": 4,
   "metadata": {},
   "outputs": [
    {
     "output_type": "stream",
     "name": "stdout",
     "text": [
      "[[1.+0.j 0.+0.j]\n [0.+0.j 1.+0.j]]\n         ┌─┐\nq0_0: |0>┤M├\n         └╥┘\n c0_0: 0 ═╩═\n            \n{'0': 1}\n"
     ]
    }
   ],
   "source": [
    "# 量子回路を定義する\n",
    "qc1 = QuantumCircuit(q1,c1) \n",
    "print(get_unitary(qc1))\n",
    "# 測定する (量子ビットから古典ビットに) \n",
    "qc1.measure(q1,c1)\n",
    "print(qc1)\n",
    "# 結果を表示する \n",
    "print(get_result(qc1))"
   ]
  },
  {
   "cell_type": "markdown",
   "metadata": {},
   "source": [
    "## code4.4 Xゲート\n",
    "パウリゲートの一つ\n",
    "<br>\n",
    "XYZ3つのパウリゲートは角運動量オペレータと同じ交換関係が成り立つ"
   ]
  },
  {
   "cell_type": "code",
   "execution_count": 10,
   "metadata": {},
   "outputs": [
    {
     "name": "stdout",
     "output_type": "stream",
     "text": [
      "[[0.+0.j 1.+0.j]\n",
      " [1.+0.j 0.+0.j]]\n",
      "{'1': 1}\n",
      "         ┌───┐┌─┐\n",
      "q2_0: |0>┤ X ├┤M├\n",
      "         └───┘└╥┘\n",
      " c2_0: 0 ══════╩═\n",
      "                 \n"
     ]
    }
   ],
   "source": [
    "qc1 = QuantumCircuit(q1,c1) \n",
    "# X ゲートを 0 ビット目に適用する \n",
    "qc1.x(0)\n",
    "#量子回路内のユニタリーゲート表示\n",
    "print(get_unitary(qc1)) \n",
    "#ビット測定\n",
    "qc1.measure(q1,c1) \n",
    "#測定結果表示\n",
    "print(get_result(qc1))\n",
    "#量子回路表示\n",
    "print(qc1)"
   ]
  },
  {
   "cell_type": "markdown",
   "metadata": {},
   "source": [
    "## code4.5 アダマールゲート"
   ]
  },
  {
   "cell_type": "code",
   "execution_count": 11,
   "metadata": {
    "scrolled": true
   },
   "outputs": [
    {
     "name": "stdout",
     "output_type": "stream",
     "text": [
      "[[ 0.70710678+0.00000000e+00j  0.70710678-8.65956056e-17j]\n",
      " [ 0.70710678+0.00000000e+00j -0.70710678+8.65956056e-17j]]\n",
      "{'1': 44, '0': 56}\n",
      "         ┌───┐┌─┐\n",
      "q2_0: |0>┤ H ├┤M├\n",
      "         └───┘└╥┘\n",
      " c2_0: 0 ══════╩═\n",
      "                 \n"
     ]
    }
   ],
   "source": [
    "qc1 = QuantumCircuit(q1,c1)\n",
    "# H(アダマール) ゲートを 0 ビット目に適用する \n",
    "qc1.h(0)\n",
    "print(get_unitary(qc1)) \n",
    "qc1.measure(q1,c1) \n",
    "print(get_result(qc1, 100))\n",
    "#量子回路表示\n",
    "print(qc1)"
   ]
  },
  {
   "cell_type": "markdown",
   "metadata": {},
   "source": [
    "# 2ビット演算"
   ]
  },
  {
   "cell_type": "markdown",
   "metadata": {},
   "source": [
    "## code4.6 CXゲート"
   ]
  },
  {
   "cell_type": "code",
   "execution_count": 12,
   "metadata": {},
   "outputs": [
    {
     "name": "stdout",
     "output_type": "stream",
     "text": [
      "before cx\n",
      "{'01': 1}\n",
      "after cx\n",
      "{'11': 1}\n",
      "         ┌───┐     ┌─┐   \n",
      "q3_0: |0>┤ X ├──■──┤M├───\n",
      "         └───┘┌─┴─┐└╥┘┌─┐\n",
      "q3_1: |0>─────┤ X ├─╫─┤M├\n",
      "              └───┘ ║ └╥┘\n",
      " c3_0: 0 ═══════════╩══╬═\n",
      "                       ║ \n",
      " c3_1: 0 ══════════════╩═\n",
      "                         \n"
     ]
    }
   ],
   "source": [
    "q2 = QuantumRegister(2)\n",
    "c2 = ClassicalRegister(2)\n",
    "qc2 = QuantumCircuit(q2,c2) \n",
    "# Xゲートを第一ビットに適用\n",
    "qc2.x(0)\n",
    "qc2.measure(q2,c2)\n",
    "print('before cx') \n",
    "print(get_result(qc2))\n",
    "\n",
    "#上の測定で量子状態が破壊されるのでもう一回初めから\n",
    "qc2 = QuantumCircuit(q2,c2)\n",
    "# Xゲートを第一ビットに適用\n",
    "qc2.x(0)\n",
    "# 制御NOTゲートを2ビットに適用 cx(controlled_bit, target_bit) \n",
    "qc2.cx(0,1)\n",
    "qc2.measure(q2,c2)\n",
    "print('after cx') \n",
    "\n",
    "#量子回路表示\n",
    "print(qc2)"
   ]
  },
  {
   "cell_type": "markdown",
   "metadata": {},
   "source": [
    "## code4.7 SWAP"
   ]
  },
  {
   "cell_type": "code",
   "execution_count": 13,
   "metadata": {},
   "outputs": [
    {
     "name": "stdout",
     "output_type": "stream",
     "text": [
      "before swap\n",
      "{'01': 1}\n",
      "after swap\n",
      "{'10': 1}\n",
      "         ┌───┐┌───┐     ┌───┐┌─┐   \n",
      "q3_0: |0>┤ X ├┤ X ├──■──┤ X ├┤M├───\n",
      "         └───┘└─┬─┘┌─┴─┐└─┬─┘└╥┘┌─┐\n",
      "q3_1: |0>───────■──┤ X ├──■───╫─┤M├\n",
      "                   └───┘      ║ └╥┘\n",
      " c3_0: 0 ═════════════════════╩══╬═\n",
      "                                 ║ \n",
      " c3_1: 0 ════════════════════════╩═\n",
      "                                   \n"
     ]
    }
   ],
   "source": [
    "def swap(qc): \n",
    "    qc.cx(1,0) \n",
    "    qc.cx(0,1) \n",
    "    qc.cx(1,0)\n",
    "    \n",
    "qc2 = QuantumCircuit(q2,c2) \n",
    "qc2.x(0)\n",
    "qc2.measure(q2,c2) \n",
    "print('before swap') \n",
    "print(get_result(qc2))\n",
    "qc2 = QuantumCircuit(q2,c2) \n",
    "qc2.x(0)\n",
    "swap(qc2) \n",
    "qc2.measure(q2,c2) \n",
    "print('after swap') \n",
    "print(get_result(qc2))\n",
    "\n",
    "#量子回路表示\n",
    "print(qc2)"
   ]
  },
  {
   "cell_type": "markdown",
   "metadata": {},
   "source": [
    "# 3ビット演算"
   ]
  },
  {
   "cell_type": "markdown",
   "metadata": {},
   "source": [
    "## code4.8 CCXゲート"
   ]
  },
  {
   "cell_type": "code",
   "execution_count": 14,
   "metadata": {},
   "outputs": [
    {
     "name": "stdout",
     "output_type": "stream",
     "text": [
      "before ccx\n",
      "{'111': 1}\n",
      "after ccx\n",
      "{'011': 1}\n",
      "         ┌───┐     ┌─┐      \n",
      "q4_0: |0>┤ X ├──■──┤M├──────\n",
      "         ├───┤  │  └╥┘┌─┐   \n",
      "q4_1: |0>┤ X ├──■───╫─┤M├───\n",
      "         ├───┤┌─┴─┐ ║ └╥┘┌─┐\n",
      "q4_2: |0>┤ X ├┤ X ├─╫──╫─┤M├\n",
      "         └───┘└───┘ ║  ║ └╥┘\n",
      " c4_0: 0 ═══════════╩══╬══╬═\n",
      "                       ║  ║ \n",
      " c4_1: 0 ══════════════╩══╬═\n",
      "                          ║ \n",
      " c4_2: 0 ═════════════════╩═\n",
      "                            \n"
     ]
    }
   ],
   "source": [
    "q3 = QuantumRegister(3)\n",
    "c3 = ClassicalRegister(3)\n",
    "qc3 = QuantumCircuit(q3,c3)\n",
    "qc3.x([0,1,2])\n",
    "qc3.measure(q3,c3)\n",
    "print('before ccx')\n",
    "print(get_result(qc3))\n",
    "\n",
    "qc3 = QuantumCircuit(q3,c3)\n",
    "qc3.x([0,1,2])\n",
    "# ccx(controlled_bit1, controlled_bit2, target_bit) \n",
    "qc3.ccx(0,1,2)\n",
    "qc3.measure(q3,c3)\n",
    "print('after ccx')\n",
    "print(get_result(qc3))\n",
    "\n",
    "print(qc3)"
   ]
  },
  {
   "cell_type": "markdown",
   "metadata": {},
   "source": [
    "# 1bitの足し算回路"
   ]
  },
  {
   "cell_type": "markdown",
   "metadata": {},
   "source": [
    "## code4.9 half_adder"
   ]
  },
  {
   "cell_type": "code",
   "execution_count": 15,
   "metadata": {},
   "outputs": [
    {
     "name": "stdout",
     "output_type": "stream",
     "text": [
      "Classical Half Adder\n",
      "0 + 0 = 00\n",
      "0 + 1 = 01\n",
      "1 + 0 = 01\n",
      "1 + 1 = 10\n",
      "Quantum Half Adder\n",
      "===============================================\n",
      "0 + 0 = 00\n",
      "(a,b) = (0,0)\n",
      "                   ┌─┐   \n",
      "q5_0: |0>──■────■──┤M├───\n",
      "           │  ┌─┴─┐└╥┘┌─┐\n",
      "q5_1: |0>──■──┤ X ├─╫─┤M├\n",
      "         ┌─┴─┐└┬─┬┘ ║ └╥┘\n",
      "q5_2: |0>┤ X ├─┤M├──╫──╫─\n",
      "         └───┘ └╥┘  ║  ║ \n",
      " c5_0: 0 ═══════╬═══╩══╬═\n",
      "                ║      ║ \n",
      " c5_1: 0 ═══════╬══════╩═\n",
      "                ║        \n",
      " c5_2: 0 ═══════╩════════\n",
      "                         \n",
      "===============================================\n",
      "===============================================\n",
      "0 + 1 = 01\n",
      "(a,b) = (0,1)\n",
      "                        ┌─┐   \n",
      "q6_0: |0>───────■────■──┤M├───\n",
      "         ┌───┐  │  ┌─┴─┐└╥┘┌─┐\n",
      "q6_1: |0>┤ X ├──■──┤ X ├─╫─┤M├\n",
      "         └───┘┌─┴─┐└┬─┬┘ ║ └╥┘\n",
      "q6_2: |0>─────┤ X ├─┤M├──╫──╫─\n",
      "              └───┘ └╥┘  ║  ║ \n",
      " c6_0: 0 ════════════╬═══╩══╬═\n",
      "                     ║      ║ \n",
      " c6_1: 0 ════════════╬══════╩═\n",
      "                     ║        \n",
      " c6_2: 0 ════════════╩════════\n",
      "                              \n",
      "===============================================\n",
      "===============================================\n",
      "1 + 0 = 01\n",
      "(a,b) = (1,0)\n",
      "         ┌───┐          ┌─┐   \n",
      "q7_0: |0>┤ X ├──■────■──┤M├───\n",
      "         └───┘  │  ┌─┴─┐└╥┘┌─┐\n",
      "q7_1: |0>───────■──┤ X ├─╫─┤M├\n",
      "              ┌─┴─┐└┬─┬┘ ║ └╥┘\n",
      "q7_2: |0>─────┤ X ├─┤M├──╫──╫─\n",
      "              └───┘ └╥┘  ║  ║ \n",
      " c7_0: 0 ════════════╬═══╩══╬═\n",
      "                     ║      ║ \n",
      " c7_1: 0 ════════════╬══════╩═\n",
      "                     ║        \n",
      " c7_2: 0 ════════════╩════════\n",
      "                              \n",
      "===============================================\n",
      "===============================================\n",
      "1 + 1 = 10\n",
      "(a,b) = (1,1)\n",
      "         ┌───┐          ┌─┐   \n",
      "q8_0: |0>┤ X ├──■────■──┤M├───\n",
      "         ├───┤  │  ┌─┴─┐└╥┘┌─┐\n",
      "q8_1: |0>┤ X ├──■──┤ X ├─╫─┤M├\n",
      "         └───┘┌─┴─┐└┬─┬┘ ║ └╥┘\n",
      "q8_2: |0>─────┤ X ├─┤M├──╫──╫─\n",
      "              └───┘ └╥┘  ║  ║ \n",
      " c8_0: 0 ════════════╬═══╩══╬═\n",
      "                     ║      ║ \n",
      " c8_1: 0 ════════════╬══════╩═\n",
      "                     ║        \n",
      " c8_2: 0 ════════════╩════════\n",
      "                              \n",
      "===============================================\n"
     ]
    }
   ],
   "source": [
    "def _half_adder(a, b): \n",
    "    # 論理積 (AND)\n",
    "    c=a&b\n",
    "    # 排他的論理和 (XOR) \n",
    "    s=a^b\n",
    "    return (c, s)\n",
    "\n",
    "def classical_half_adder(a, b):\n",
    "    (c, s) = _half_adder(a, b)\n",
    "    print('{0} + {1} = {2}{3}'.format(a,b,c,s))\n",
    "    \n",
    "def quantum_half_adder(qc, a=0, b=1, c=2): \n",
    "    qc.ccx(a,b,c)\n",
    "    qc.cx(a,b)\n",
    "\n",
    "def exec_half_adder(a, b):\n",
    "    q = QuantumRegister(3)\n",
    "    c = ClassicalRegister(3) \n",
    "    qc = QuantumCircuit(q,c)\n",
    "    if a == 1:\n",
    "        qc.x(0) \n",
    "    if b == 1:\n",
    "        qc.x(1)\n",
    "    quantum_half_adder(qc,0,1,2)\n",
    "    qc.measure(q,c)\n",
    "    r = list(get_result(qc).keys())[0]\n",
    "    print(\"===============================================\")\n",
    "    print('{0} + {1} = {2}{3}'.format(a,b,r[0],r[1]))\n",
    "    print(\"(a,b) = ({},{})\".format(a,b))\n",
    "    print(qc)\n",
    "    print(\"===============================================\")\n",
    "    \n",
    "def main_half_adder(): \n",
    "    print('Classical Half Adder') \n",
    "    classical_half_adder(0, 0) \n",
    "    classical_half_adder(0, 1) \n",
    "    classical_half_adder(1, 0) \n",
    "    classical_half_adder(1, 1) \n",
    "    print('Quantum Half Adder') \n",
    "    exec_half_adder(0, 0) \n",
    "    exec_half_adder(0, 1) \n",
    "    exec_half_adder(1, 0) \n",
    "    exec_half_adder(1, 1)\n",
    "    \n",
    "main_half_adder()"
   ]
  },
  {
   "cell_type": "markdown",
   "metadata": {},
   "source": [
    "# 複数ビットの足し算回路"
   ]
  },
  {
   "cell_type": "markdown",
   "metadata": {},
   "source": [
    "## 練習：ANDゲート"
   ]
  },
  {
   "cell_type": "code",
   "execution_count": 16,
   "metadata": {},
   "outputs": [
    {
     "name": "stdout",
     "output_type": "stream",
     "text": [
      "after ccx\n",
      "{'100': 1}\n",
      "after ccx\n",
      "{'000': 1}\n",
      "after ccx\n",
      "{'110': 1}\n",
      "after ccx\n",
      "{'010': 1}\n",
      "after ccx\n",
      "{'101': 1}\n",
      "after ccx\n",
      "{'001': 1}\n",
      "after ccx\n",
      "{'011': 1}\n",
      "after ccx\n",
      "{'111': 1}\n",
      "[[0, 0, 1, 1, 2, 2], [0, 0, 1, 1, 2], [0, 0, 1, 2, 2], [0, 0, 1, 2], [0, 1, 1, 2, 2], [0, 1, 1, 2], [0, 1, 2, 2], [0, 1, 2]]\n"
     ]
    }
   ],
   "source": [
    "q3 = QuantumRegister(3)\n",
    "c3 = ClassicalRegister(3)\n",
    "\n",
    "q_x = [\n",
    "    [0,0,1,1,2,2],\n",
    "    [0,0,1,1,2],\n",
    "    [0,0,1,2,2],\n",
    "    [0,0,1,2],\n",
    "    [0,1,1,2,2],\n",
    "    [0,1,1,2],\n",
    "    [0,1,2,2],\n",
    "    [0,1,2]\n",
    "]\n",
    "\n",
    "def NOT(q_list):\n",
    "    qc3 = QuantumCircuit(q3,c3)\n",
    "    qc3.x(q_list)\n",
    "    # ccx(controlled_bit1, controlled_bit2, target_bit) \n",
    "    qc3.ccx(0,1,2)\n",
    "    qc3.x([0,0,1,1,2])\n",
    "    qc3.measure(q3,c3)\n",
    "    print('after ccx')\n",
    "    print(get_result(qc3))\n",
    "    #print(qc3)\n",
    "\n",
    "for i in range(len(q_x)):\n",
    "    NOT(q_x[i])\n",
    "\n",
    "\n",
    "print(q_x)"
   ]
  },
  {
   "cell_type": "markdown",
   "metadata": {},
   "source": [
    "## code4.10 OR"
   ]
  },
  {
   "cell_type": "code",
   "execution_count": 17,
   "metadata": {},
   "outputs": [
    {
     "name": "stdout",
     "output_type": "stream",
     "text": [
      "before or\n",
      "{'001': 1}\n",
      "after or\n",
      "{'101': 1}\n"
     ]
    }
   ],
   "source": [
    "def or_gate(qc, a=0, b=1, r=2): \n",
    "    qc.x(a)\n",
    "    qc.x(b) \n",
    "    qc.ccx(a,b,r) \n",
    "    qc.x([a,b,r])\n",
    "\n",
    "def exec_or():\n",
    "    q = QuantumRegister(3)\n",
    "    c = ClassicalRegister(3) \n",
    "    qc = QuantumCircuit(q,c) \n",
    "    qc.x(0)\n",
    "    qc.measure(q,c) \n",
    "    print('before or') \n",
    "    print(get_result(qc))\n",
    "    qc = QuantumCircuit(q,c) \n",
    "    qc.x(0) \n",
    "    or_gate(qc,0,1,2) \n",
    "    qc.measure(q,c) \n",
    "    print('after or') \n",
    "    print(get_result(qc))\n",
    "    \n",
    "exec_or()"
   ]
  },
  {
   "cell_type": "markdown",
   "metadata": {},
   "source": [
    "## code4.11 full_adder"
   ]
  },
  {
   "cell_type": "code",
   "execution_count": 18,
   "metadata": {},
   "outputs": [
    {
     "name": "stdout",
     "output_type": "stream",
     "text": [
      "Classical Full Adder\n",
      "0 + 0 + 1 = 01\n",
      "0 + 1 + 1 = 10\n",
      "1 + 1 + 0 = 10\n",
      "1 + 1 + 1 = 11\n",
      "Quantum Full Adder\n",
      "0 + 0 + 1 = 11\n",
      "0 + 1 + 1 = 11\n",
      "1 + 1 + 0 = 11\n",
      "1 + 1 + 1 = 00\n"
     ]
    }
   ],
   "source": [
    "def _full_adder(a, b, x):\n",
    "    (tc, ts) = _half_adder(a, b) \n",
    "    (c, s) = _half_adder(x, ts) \n",
    "    return (tc | c, s)\n",
    "\n",
    "def classical_full_adder(a, b, x):\n",
    "    (c, s) = _full_adder(a, b, x)\n",
    "    print('{0} + {1} + {2} = {3}{4}'.format(a, b, x, c, s))\n",
    "    \n",
    "\n",
    "def quantum_full_adder(qc, a=0, b=1, c1=2, c2=3, ci=4, co=5): \n",
    "    quantum_half_adder(qc, a, b, c1)\n",
    "    quantum_half_adder(qc, b, ci, c2)\n",
    "    or_gate(qc, c1, c2, co)\n",
    "    \n",
    "def exec_full_adder(a, b, x): \n",
    "    q = QuantumRegister(6)\n",
    "    c = ClassicalRegister(6) \n",
    "    qc = QuantumCircuit(q,c) \n",
    "    if a == 1:\n",
    "        qc.x(0) \n",
    "    if b == 1:\n",
    "        qc.x(1) \n",
    "    if x == 1:\n",
    "        qc.x(2)\n",
    "    quantum_full_adder(qc,0,1,2,3,4,5)\n",
    "    qc.measure(q,c)\n",
    "    r = list(get_result(qc).keys())[0]\n",
    "    print('{0} + {1} + {2} = {3}{4}'.format(a,b,x,r[0],r[3]))\n",
    "    \n",
    "def main_full_adder(): \n",
    "    print('Classical Full Adder') \n",
    "    classical_full_adder(0,0,1) \n",
    "    classical_full_adder(0,1,1) \n",
    "    classical_full_adder(1,1,0) \n",
    "    classical_full_adder(1,1,1) \n",
    "    print('Quantum Full Adder') \n",
    "    exec_full_adder(0,0,1) \n",
    "    exec_full_adder(0,1,1) \n",
    "    exec_full_adder(1,1,0) \n",
    "    exec_full_adder(1,1,1)\n",
    "    \n",
    "main_full_adder()"
   ]
  },
  {
   "cell_type": "markdown",
   "metadata": {},
   "source": [
    "# 4.4 グローバーのアルゴリズム"
   ]
  },
  {
   "cell_type": "markdown",
   "metadata": {},
   "source": [
    "## 4.4.1 2ビットのグローバーのアルゴリズム"
   ]
  },
  {
   "cell_type": "markdown",
   "metadata": {},
   "source": [
    "### code4.12 探索解の振幅反転2ビット \n",
    "探索解の振幅反転を行うゲートを設定する関数\"marking2\"の第 2 引数の\"k\"には 2 ビットの値を文字列で入力します。"
   ]
  },
  {
   "cell_type": "code",
   "execution_count": 1,
   "metadata": {},
   "outputs": [],
   "source": [
    "def marking2(qc, k): \n",
    "    if k == '11':\n",
    "        qc.cz(0,1) \n",
    "    elif k == '10':\n",
    "        qc.x(0) \n",
    "        qc.cz(0,1)\n",
    "        qc.x(0)\n",
    "    elif k == '01': \n",
    "        qc.x(1)\n",
    "        qc.cz(0,1)\n",
    "        qc.x(1) \n",
    "    else:\n",
    "        qc.x([0,1]) \n",
    "        qc.cz(0,1) \n",
    "        qc.x([0,1])"
   ]
  },
  {
   "cell_type": "markdown",
   "metadata": {},
   "source": [
    "### code4.13 平均値での全振幅反転2ビット\n",
    "\"amp2\"は平均値での全振幅反転を行うゲートを設定する関数です。"
   ]
  },
  {
   "cell_type": "code",
   "execution_count": 7,
   "metadata": {},
   "outputs": [],
   "source": [
    "def amp2(qc): \n",
    "    qc.h([0,1]) \n",
    "    qc.x([0,1])\n",
    "    qc.cz(0,1) \n",
    "    qc.x([0,1]) \n",
    "    qc.h([0,1])"
   ]
  },
  {
   "cell_type": "markdown",
   "metadata": {},
   "source": [
    "### code4.14 グローバーのアルゴリズム2ビット版"
   ]
  },
  {
   "cell_type": "code",
   "execution_count": 8,
   "metadata": {},
   "outputs": [
    {
     "name": "stdout",
     "output_type": "stream",
     "text": [
      "Grover's Algorithm 2bit\n",
      "{'00': 100}\n",
      "{'01': 100}\n",
      "{'10': 100}\n",
      "{'11': 100}\n"
     ]
    }
   ],
   "source": [
    "def grover2(k):\n",
    "    q2 = QuantumRegister(2)\n",
    "    c2 = ClassicalRegister(2) \n",
    "    qc2 = QuantumCircuit(q2,c2) \n",
    "    qc2.h([0,1])\n",
    "    marking2(qc2, k)\n",
    "    amp2(qc2) \n",
    "    qc2.measure(q2,c2) \n",
    "    print(get_result(qc2, 100))\n",
    "    \n",
    "def exec_grover2():\n",
    "    print(\"Grover's Algorithm 2bit\")\n",
    "    grover2('00') \n",
    "    grover2('01') \n",
    "    grover2('10') \n",
    "    grover2('11')\n",
    "    \n",
    "exec_grover2()"
   ]
  },
  {
   "cell_type": "code",
   "execution_count": null,
   "metadata": {},
   "outputs": [],
   "source": []
  }
 ],
 "metadata": {
  "kernelspec": {
   "display_name": "Python 3.7.6 64-bit",
   "language": "python",
   "name": "python37664bit159b1c4124f446259fb9dcb2da227acf"
  },
  "language_info": {
   "codemirror_mode": {
    "name": "ipython",
    "version": 3
   },
   "file_extension": ".py",
   "mimetype": "text/x-python",
   "name": "python",
   "nbconvert_exporter": "python",
   "pygments_lexer": "ipython3",
   "version": "3.7.6-final"
  }
 },
 "nbformat": 4,
 "nbformat_minor": 2
}