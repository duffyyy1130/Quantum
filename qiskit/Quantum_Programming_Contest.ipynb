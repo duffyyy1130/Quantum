{
 "cells": [
  {
   "cell_type": "markdown",
   "metadata": {},
   "source": [
    "# Microsoft Q# Coding Contest - Summer 2018"
   ]
  },
  {
   "cell_type": "code",
   "execution_count": 7,
   "metadata": {},
   "outputs": [],
   "source": [
    "import qiskit\n",
    "#量子ビットモジュール\n",
    "from qiskit import QuantumRegister\n",
    "from qiskit import QuantumCircuit\n",
    "#古典ビットモジュール\n",
    "from qiskit import ClassicalRegister\n",
    "from qiskit import Aer\n",
    "from qiskit import execute"
   ]
  },
  {
   "cell_type": "code",
   "execution_count": 2,
   "metadata": {},
   "outputs": [],
   "source": [
    "# 1 量子ビットを定義する\n",
    "q1 = QuantumRegister(1)\n",
    "# 1 古典ビットを定義する\n",
    "c1 = ClassicalRegister(1)\n",
    "# 結果の個数をカウントする (1000ショット)\n",
    "def get_result(qc, shots=1000):\n",
    "    simulator = Aer.get_backend('qasm_simulator')\n",
    "    return execute(qc, simulator, shots=shots).result().get_counts(qc)\n",
    "# 行列を表示する\n",
    "def get_unitary(qc):\n",
    "    simulator = Aer.get_backend('unitary_simulator') \n",
    "    return execute(qc, simulator).result().get_unitary(qc)"
   ]
  },
  {
   "cell_type": "markdown",
   "metadata": {},
   "source": [
    "##### EPR対"
   ]
  },
  {
   "cell_type": "code",
   "execution_count": 3,
   "metadata": {},
   "outputs": [
    {
     "output_type": "stream",
     "name": "stdout",
     "text": [
      "after cx\n      ┌───┐     ┌─┐   \nq1_0: ┤ H ├──■──┤M├───\n      └───┘┌─┴─┐└╥┘┌─┐\nq1_1: ─────┤ X ├─╫─┤M├\n           └───┘ ║ └╥┘\nc1: 2/═══════════╩══╩═\n                 0  1 \n"
     ]
    },
    {
     "output_type": "execute_result",
     "data": {
      "text/plain": [
       "{'00': 4967, '11': 5033}"
      ]
     },
     "metadata": {},
     "execution_count": 3
    }
   ],
   "source": [
    "q2 = QuantumRegister(2)\n",
    "c2 = ClassicalRegister(2)\n",
    "qc2 = QuantumCircuit(q2,c2)\n",
    "# Xゲートを第一ビットに適用\n",
    "qc2.h(0)\n",
    "# 制御NOTゲートを2ビットに適用 cx(controlled_bit, target_bit) \n",
    "qc2.cx(0,1)\n",
    "qc2.measure(q2,c2)\n",
    "print('after cx') \n",
    "\n",
    "#量子回路表示\n",
    "print(qc2)\n",
    "get_result(qc2,10000)"
   ]
  },
  {
   "cell_type": "markdown",
   "metadata": {},
   "source": [
    "## Warmup ラウンド"
   ]
  },
  {
   "cell_type": "markdown",
   "metadata": {},
   "source": [
    "### A. Generate plus state or minus state"
   ]
  },
  {
   "cell_type": "code",
   "execution_count": 4,
   "metadata": {},
   "outputs": [
    {
     "output_type": "stream",
     "name": "stdout",
     "text": [
      "[[ 0.70710678+0.00000000e+00j  0.70710678-8.65956056e-17j]\n [ 0.70710678+0.00000000e+00j -0.70710678+8.65956056e-17j]]\n{'0': 482, '1': 518}\n      ┌───┐┌─┐\nq0_0: ┤ H ├┤M├\n      └───┘└╥┘\nc0: 1/══════╩═\n            0 \n"
     ]
    }
   ],
   "source": [
    "qc1 = QuantumCircuit(q1,c1)\n",
    "\n",
    "switch = int(input(\"switch >>> \"))\n",
    "\n",
    "if switch == 1:\n",
    "    qc1.h(0)\n",
    "    print(get_unitary(qc1)) \n",
    "    qc1.measure(q1,c1) \n",
    "    print(get_result(qc1))\n",
    "    #量子回路表示\n",
    "    print(qc1)\n",
    "    \n",
    "if switch == 0:\n",
    "    qc1.x(0)\n",
    "    qc1.h(0)\n",
    "    print(get_unitary(qc1)) \n",
    "    qc1.measure(q1,c1) \n",
    "    print(get_result(qc1))\n",
    "    #量子回路表示\n",
    "    print(qc1)"
   ]
  },
  {
   "cell_type": "markdown",
   "metadata": {},
   "source": [
    "### <span style=\"color: red; \">B. Generate Bell State</span>\n",
    "入力：|00> , 整数{0,1,2,3}\n",
    "<br>\n",
    "出力：４つのベル状態"
   ]
  },
  {
   "cell_type": "code",
   "execution_count": 16,
   "metadata": {},
   "outputs": [
    {
     "name": "stdout",
     "output_type": "stream",
     "text": [
      "3\n",
      "         ┌───┐               \n",
      "q8_0: |0>┤ H ├──■────────────\n",
      "         └───┘┌─┴─┐┌───┐┌───┐\n",
      "q8_1: |0>─────┤ X ├┤ Z ├┤ X ├\n",
      "              └───┘└───┘└───┘\n",
      " c8_0: 0 ════════════════════\n",
      "                             \n",
      " c8_1: 0 ════════════════════\n",
      "                             \n"
     ]
    }
   ],
   "source": [
    "q2 = QuantumRegister(2)\n",
    "c2 = ClassicalRegister(2)\n",
    "qc2 = QuantumCircuit(q2,c2) \n",
    "\n",
    "def generateB_0(qc):\n",
    "    #第一ビットにアダマール\n",
    "    qc.h(0)\n",
    "    #２ビットにCXゲート\n",
    "    qc.cx(0,1)\n",
    "\n",
    "generateB_0(qc2)\n",
    "\n",
    "index = int(input())\n",
    "if index % 2 == 1:\n",
    "    qc2.z(1)\n",
    "if index // 2 == 1:\n",
    "    qc2.x(1)\n",
    "\n",
    "print(qc2)"
   ]
  },
  {
   "cell_type": "markdown",
   "metadata": {},
   "source": [
    "### C.Generate GHZ state\n",
    "入力：Nビット量子状態\n",
    "$$\n",
    "|0...0> (1 \\leqq N \\leqq 8)\n",
    "$$\n",
    "<br>\n",
    "出力：(Greenberger-Horne-Zeilinger state)\n",
    "$$ \n",
    "    |GHZ> \\ = \\  \\frac{|0...0> + |1...1>} {\\sqrt{2}}\n",
    "$$"
   ]
  },
  {
   "cell_type": "code",
   "execution_count": 17,
   "metadata": {},
   "outputs": [
    {
     "name": "stdout",
     "output_type": "stream",
     "text": [
      "N >>> 4\n",
      "{'1111': 504, '0000': 496}\n",
      "         ┌───┐                     ┌─┐   \n",
      "q9_0: |0>┤ H ├──■────■───────■─────┤M├───\n",
      "         └───┘┌─┴─┐  │  ┌─┐  │     └╥┘   \n",
      "q9_1: |0>─────┤ X ├──┼──┤M├──┼──────╫────\n",
      "              └───┘┌─┴─┐└╥┘  │  ┌─┐ ║    \n",
      "q9_2: |0>──────────┤ X ├─╫───┼──┤M├─╫────\n",
      "                   └───┘ ║ ┌─┴─┐└╥┘ ║ ┌─┐\n",
      "q9_3: |0>────────────────╫─┤ X ├─╫──╫─┤M├\n",
      "                         ║ └───┘ ║  ║ └╥┘\n",
      " c9_0: 0 ════════════════╬═══════╬══╩══╬═\n",
      "                         ║       ║     ║ \n",
      " c9_1: 0 ════════════════╩═══════╬═════╬═\n",
      "                                 ║     ║ \n",
      " c9_2: 0 ════════════════════════╩═════╬═\n",
      "                                       ║ \n",
      " c9_3: 0 ══════════════════════════════╩═\n",
      "                                         \n"
     ]
    }
   ],
   "source": [
    "N = int(input(\"N >>> \"))\n",
    "qN = QuantumRegister(N)\n",
    "cN = ClassicalRegister(N)\n",
    "qcN = QuantumCircuit(qN , cN)\n",
    "\n",
    "#第一ビットにアダマール\n",
    "qcN.h(0)\n",
    "\n",
    "if N >= 2:\n",
    "    qcN.cx(0,1)\n",
    "\n",
    "#第１，２ビットと第３ビット以降を順々にCCXゲートを適用\n",
    "M = N-2\n",
    "if 1 <= M:\n",
    "    for i in range(2,M + 2):\n",
    "        qcN.cx(0,i)\n",
    "else:\n",
    "    pass\n",
    "\n",
    "\n",
    "#結果表示\n",
    "qcN.measure(qN,cN)\n",
    "print(get_result(qcN))\n",
    "print(qcN)\n"
   ]
  },
  {
   "cell_type": "markdown",
   "metadata": {},
   "source": [
    "### D. Distinguish plus state and minus state\n",
    "入力：|+> or |->\n",
    "<br>\n",
    "出力：|+> or |->　を測定によって判別"
   ]
  },
  {
   "cell_type": "code",
   "execution_count": 31,
   "metadata": {},
   "outputs": [
    {
     "name": "stdout",
     "output_type": "stream",
     "text": [
      "input state:{|+> ('p')} or {|-> ('n')} >>> n\n",
      "state:|->\n",
      "judge:|->\n"
     ]
    }
   ],
   "source": [
    "#入力量子ビットの作成=＝＝＝＝＝＝＝＝＝＝＝＝＝\n",
    "state=input(\"input state:{|+> ('p')} or {|-> ('n')} >>> \")\n",
    "q1 = QuantumRegister(1)\n",
    "c1 = ClassicalRegister(1)\n",
    "qc1 = QuantumCircuit(q1 , c1)\n",
    "\n",
    "if state == \"p\":\n",
    "    qc1.h(0)\n",
    "    print(\"state:|+>\")\n",
    "elif state == \"n\":\n",
    "    qc1.x(0)\n",
    "    qc1.h(0)\n",
    "    print(\"state:|->\")\n",
    "#=＝＝＝＝＝＝＝＝＝＝＝＝＝＝＝＝＝＝＝＝＝＝＝\n",
    "\n",
    "#判定プログラム＝＝＝＝＝＝＝＝＝＝＝＝＝＝＝＝＝\n",
    "qc1.h(0)\n",
    "qc1.measure(q1,c1)\n",
    "measure_result = get_result(qc1)\n",
    "\n",
    "for bit in measure_result:\n",
    "    if bit == \"0\":\n",
    "        print(\"judge:|+>\")\n",
    "    elif bit == \"1\":\n",
    "        print(\"judge:|->\")\n",
    "    else:\n",
    "        print(\"ERROR\")\n",
    "#=＝＝＝＝＝＝＝＝＝＝＝＝＝＝＝＝＝＝＝＝＝＝＝"
   ]
  },
  {
   "cell_type": "markdown",
   "metadata": {},
   "source": [
    "# ===================================="
   ]
  },
  {
   "cell_type": "markdown",
   "metadata": {},
   "source": [
    "### <span style=\"color: red; \"> E. Distinguish Bell State </span> \n",
    "入力：Bで出てきた４つのベル状態\n",
    "<br>\n",
    "出力：どのベル状態かを判別"
   ]
  },
  {
   "cell_type": "code",
   "execution_count": 28,
   "metadata": {},
   "outputs": [
    {
     "name": "stdout",
     "output_type": "stream",
     "text": [
      "select Bell state {0,1,2,3} >>> \n",
      "3\n",
      "          ┌───┐                    ┌───┐\n",
      "q74_0: |0>┤ H ├──■──────────────■──┤ H ├\n",
      "          └───┘┌─┴─┐┌───┐┌───┐┌─┴─┐└───┘\n",
      "q74_1: |0>─────┤ X ├┤ Z ├┤ X ├┤ X ├─────\n",
      "               └───┘└───┘└───┘└───┘     \n",
      " c73_0: 0 ══════════════════════════════\n",
      "                                        \n",
      " c73_1: 0 ══════════════════════════════\n",
      "                                        \n"
     ]
    },
    {
     "ename": "CircuitError",
     "evalue": "'register not in this circuit'",
     "output_type": "error",
     "traceback": [
      "\u001b[0;31m---------------------------------------------------------------------------\u001b[0m",
      "\u001b[0;31mCircuitError\u001b[0m                              Traceback (most recent call last)",
      "\u001b[0;32m<ipython-input-28-05881aad24ee>\u001b[0m in \u001b[0;36m<module>\u001b[0;34m\u001b[0m\n\u001b[1;32m     48\u001b[0m \u001b[0mqc_Bi\u001b[0m\u001b[0;34m.\u001b[0m\u001b[0mh\u001b[0m\u001b[0;34m(\u001b[0m\u001b[0;36m0\u001b[0m\u001b[0;34m)\u001b[0m\u001b[0;34m\u001b[0m\u001b[0;34m\u001b[0m\u001b[0m\n\u001b[1;32m     49\u001b[0m \u001b[0mprint\u001b[0m\u001b[0;34m(\u001b[0m\u001b[0mqc_Bi\u001b[0m\u001b[0;34m)\u001b[0m\u001b[0;34m\u001b[0m\u001b[0;34m\u001b[0m\u001b[0m\n\u001b[0;32m---> 50\u001b[0;31m \u001b[0mqc_Bi\u001b[0m\u001b[0;34m.\u001b[0m\u001b[0mmeasure\u001b[0m\u001b[0;34m(\u001b[0m\u001b[0mq_Bi\u001b[0m\u001b[0;34m,\u001b[0m\u001b[0mc_Bi\u001b[0m\u001b[0;34m)\u001b[0m\u001b[0;34m\u001b[0m\u001b[0;34m\u001b[0m\u001b[0m\n\u001b[0m\u001b[1;32m     51\u001b[0m \u001b[0mprint\u001b[0m\u001b[0;34m(\u001b[0m\u001b[0mget_result\u001b[0m\u001b[0;34m(\u001b[0m\u001b[0mqc_Bi\u001b[0m\u001b[0;34m)\u001b[0m\u001b[0;34m)\u001b[0m\u001b[0;34m\u001b[0m\u001b[0;34m\u001b[0m\u001b[0m\n",
      "\u001b[0;32m/Library/Python/3.7/site-packages/qiskit/circuit/measure.py\u001b[0m in \u001b[0;36mmeasure\u001b[0;34m(self, qubit, cbit)\u001b[0m\n\u001b[1;32m     56\u001b[0m             \u001b[0;32mif\u001b[0m \u001b[0mcbit\u001b[0m \u001b[0;32mis\u001b[0m \u001b[0;32mnot\u001b[0m \u001b[0;32min\u001b[0m \u001b[0mthis\u001b[0m \u001b[0mcircuit\u001b[0m \u001b[0;32mor\u001b[0m \u001b[0;32mnot\u001b[0m \u001b[0mcreg\u001b[0m\u001b[0;34m.\u001b[0m\u001b[0;34m\u001b[0m\u001b[0;34m\u001b[0m\u001b[0m\n\u001b[1;32m     57\u001b[0m     \"\"\"\n\u001b[0;32m---> 58\u001b[0;31m     \u001b[0;32mreturn\u001b[0m \u001b[0mself\u001b[0m\u001b[0;34m.\u001b[0m\u001b[0mappend\u001b[0m\u001b[0;34m(\u001b[0m\u001b[0mMeasure\u001b[0m\u001b[0;34m(\u001b[0m\u001b[0;34m)\u001b[0m\u001b[0;34m,\u001b[0m \u001b[0;34m[\u001b[0m\u001b[0mqubit\u001b[0m\u001b[0;34m]\u001b[0m\u001b[0;34m,\u001b[0m \u001b[0;34m[\u001b[0m\u001b[0mcbit\u001b[0m\u001b[0;34m]\u001b[0m\u001b[0;34m)\u001b[0m\u001b[0;34m\u001b[0m\u001b[0;34m\u001b[0m\u001b[0m\n\u001b[0m\u001b[1;32m     59\u001b[0m \u001b[0;34m\u001b[0m\u001b[0m\n\u001b[1;32m     60\u001b[0m \u001b[0;34m\u001b[0m\u001b[0m\n",
      "\u001b[0;32m/Library/Python/3.7/site-packages/qiskit/circuit/quantumcircuit.py\u001b[0m in \u001b[0;36mappend\u001b[0;34m(self, instruction, qargs, cargs)\u001b[0m\n\u001b[1;32m    461\u001b[0m         \u001b[0minstructions\u001b[0m \u001b[0;34m=\u001b[0m \u001b[0mInstructionSet\u001b[0m\u001b[0;34m(\u001b[0m\u001b[0;34m)\u001b[0m\u001b[0;34m\u001b[0m\u001b[0;34m\u001b[0m\u001b[0m\n\u001b[1;32m    462\u001b[0m         \u001b[0;32mfor\u001b[0m \u001b[0;34m(\u001b[0m\u001b[0mqarg\u001b[0m\u001b[0;34m,\u001b[0m \u001b[0mcarg\u001b[0m\u001b[0;34m)\u001b[0m \u001b[0;32min\u001b[0m \u001b[0minstruction\u001b[0m\u001b[0;34m.\u001b[0m\u001b[0mbroadcast_arguments\u001b[0m\u001b[0;34m(\u001b[0m\u001b[0mexpanded_qargs\u001b[0m\u001b[0;34m,\u001b[0m \u001b[0mexpanded_cargs\u001b[0m\u001b[0;34m)\u001b[0m\u001b[0;34m:\u001b[0m\u001b[0;34m\u001b[0m\u001b[0;34m\u001b[0m\u001b[0m\n\u001b[0;32m--> 463\u001b[0;31m             \u001b[0minstructions\u001b[0m\u001b[0;34m.\u001b[0m\u001b[0madd\u001b[0m\u001b[0;34m(\u001b[0m\u001b[0mself\u001b[0m\u001b[0;34m.\u001b[0m\u001b[0m_append\u001b[0m\u001b[0;34m(\u001b[0m\u001b[0minstruction\u001b[0m\u001b[0;34m,\u001b[0m \u001b[0mqarg\u001b[0m\u001b[0;34m,\u001b[0m \u001b[0mcarg\u001b[0m\u001b[0;34m)\u001b[0m\u001b[0;34m,\u001b[0m \u001b[0mqarg\u001b[0m\u001b[0;34m,\u001b[0m \u001b[0mcarg\u001b[0m\u001b[0;34m)\u001b[0m\u001b[0;34m\u001b[0m\u001b[0;34m\u001b[0m\u001b[0m\n\u001b[0m\u001b[1;32m    464\u001b[0m         \u001b[0;32mreturn\u001b[0m \u001b[0minstructions\u001b[0m\u001b[0;34m\u001b[0m\u001b[0;34m\u001b[0m\u001b[0m\n\u001b[1;32m    465\u001b[0m \u001b[0;34m\u001b[0m\u001b[0m\n",
      "\u001b[0;32m/Library/Python/3.7/site-packages/qiskit/circuit/quantumcircuit.py\u001b[0m in \u001b[0;36m_append\u001b[0;34m(self, instruction, qargs, cargs)\u001b[0m\n\u001b[1;32m    485\u001b[0m         \u001b[0;31m# do some compatibility checks\u001b[0m\u001b[0;34m\u001b[0m\u001b[0;34m\u001b[0m\u001b[0;34m\u001b[0m\u001b[0m\n\u001b[1;32m    486\u001b[0m         \u001b[0mself\u001b[0m\u001b[0;34m.\u001b[0m\u001b[0m_check_dups\u001b[0m\u001b[0;34m(\u001b[0m\u001b[0mqargs\u001b[0m\u001b[0;34m)\u001b[0m\u001b[0;34m\u001b[0m\u001b[0;34m\u001b[0m\u001b[0m\n\u001b[0;32m--> 487\u001b[0;31m         \u001b[0mself\u001b[0m\u001b[0;34m.\u001b[0m\u001b[0m_check_qargs\u001b[0m\u001b[0;34m(\u001b[0m\u001b[0mqargs\u001b[0m\u001b[0;34m)\u001b[0m\u001b[0;34m\u001b[0m\u001b[0;34m\u001b[0m\u001b[0m\n\u001b[0m\u001b[1;32m    488\u001b[0m         \u001b[0mself\u001b[0m\u001b[0;34m.\u001b[0m\u001b[0m_check_cargs\u001b[0m\u001b[0;34m(\u001b[0m\u001b[0mcargs\u001b[0m\u001b[0;34m)\u001b[0m\u001b[0;34m\u001b[0m\u001b[0;34m\u001b[0m\u001b[0m\n\u001b[1;32m    489\u001b[0m \u001b[0;34m\u001b[0m\u001b[0m\n",
      "\u001b[0;32m/Library/Python/3.7/site-packages/qiskit/circuit/quantumcircuit.py\u001b[0m in \u001b[0;36m_check_qargs\u001b[0;34m(self, qargs)\u001b[0m\n\u001b[1;32m    560\u001b[0m             \u001b[0;32mraise\u001b[0m \u001b[0mCircuitError\u001b[0m\u001b[0;34m(\u001b[0m\u001b[0;34m\"qarg is not a Qubit\"\u001b[0m\u001b[0;34m)\u001b[0m\u001b[0;34m\u001b[0m\u001b[0;34m\u001b[0m\u001b[0m\n\u001b[1;32m    561\u001b[0m         \u001b[0;32mif\u001b[0m \u001b[0;32mnot\u001b[0m \u001b[0mall\u001b[0m\u001b[0;34m(\u001b[0m\u001b[0mself\u001b[0m\u001b[0;34m.\u001b[0m\u001b[0mhas_register\u001b[0m\u001b[0;34m(\u001b[0m\u001b[0mi\u001b[0m\u001b[0;34m.\u001b[0m\u001b[0mregister\u001b[0m\u001b[0;34m)\u001b[0m \u001b[0;32mfor\u001b[0m \u001b[0mi\u001b[0m \u001b[0;32min\u001b[0m \u001b[0mqargs\u001b[0m\u001b[0;34m)\u001b[0m\u001b[0;34m:\u001b[0m\u001b[0;34m\u001b[0m\u001b[0;34m\u001b[0m\u001b[0m\n\u001b[0;32m--> 562\u001b[0;31m             \u001b[0;32mraise\u001b[0m \u001b[0mCircuitError\u001b[0m\u001b[0;34m(\u001b[0m\u001b[0;34m\"register not in this circuit\"\u001b[0m\u001b[0;34m)\u001b[0m\u001b[0;34m\u001b[0m\u001b[0;34m\u001b[0m\u001b[0m\n\u001b[0m\u001b[1;32m    563\u001b[0m \u001b[0;34m\u001b[0m\u001b[0m\n\u001b[1;32m    564\u001b[0m     \u001b[0;32mdef\u001b[0m \u001b[0m_check_cargs\u001b[0m\u001b[0;34m(\u001b[0m\u001b[0mself\u001b[0m\u001b[0;34m,\u001b[0m \u001b[0mcargs\u001b[0m\u001b[0;34m)\u001b[0m\u001b[0;34m:\u001b[0m\u001b[0;34m\u001b[0m\u001b[0;34m\u001b[0m\u001b[0m\n",
      "\u001b[0;31mCircuitError\u001b[0m: 'register not in this circuit'"
     ]
    }
   ],
   "source": [
    "#４つのベル状態生成===========================\n",
    "q0 = QuantumRegister(2)\n",
    "c0 = ClassicalRegister(2)\n",
    "qc0 = QuantumCircuit(q0,c0) \n",
    "\n",
    "q1 = QuantumRegister(2)\n",
    "c1 = ClassicalRegister(2)\n",
    "qc1 = QuantumCircuit(q1,c1) \n",
    "\n",
    "q2 = QuantumRegister(2)\n",
    "c2 = ClassicalRegister(2)\n",
    "qc2 = QuantumCircuit(q2,c2)\n",
    "\n",
    "q3 = QuantumRegister(2)\n",
    "c3 = ClassicalRegister(2)\n",
    "qc3 = QuantumCircuit(q3,c3) \n",
    "\n",
    "def generateB_0(qc):\n",
    "    #第一ビットにアダマール\n",
    "    qc.h(0)\n",
    "    #２ビットにCXゲート\n",
    "    qc.cx(0,1)\n",
    "\n",
    "generateB_0(qc0)\n",
    "generateB_0(qc1)\n",
    "generateB_0(qc2)\n",
    "generateB_0(qc3)\n",
    "\n",
    "Bell_state = [qc0,qc1,qc2,qc3]\n",
    "\n",
    "for i in range(0,4):\n",
    "    if i % 2 == 1:\n",
    "        Bell_state[i].z(1)\n",
    "    if i // 2 == 1:\n",
    "        Bell_state[i].x(1)\n",
    "    #print(\"Bell_state\",i)\n",
    "    #print(Bell_state[i])\n",
    "#=============================================\n",
    "\n",
    "#判定プログラム\n",
    "print(\"select Bell state {0,1,2,3} >>> \")\n",
    "i = int(input())\n",
    "q_Bi = QuantumRegister(2)\n",
    "c_Bi = ClassicalRegister(2)\n",
    "qc_Bi = Bell_state[i]\n",
    "\n",
    "qc_Bi.cx(0,1)\n",
    "qc_Bi.h(0)\n",
    "print(qc_Bi)\n",
    "qc_Bi.measure(q_Bi,c_Bi)\n",
    "print(get_result(qc_Bi))"
   ]
  },
  {
   "cell_type": "markdown",
   "metadata": {},
   "source": [
    "### F. Distinguish multi-qubit basis states\n",
    "入力：一つの量子ビット列と ビット列を表現する２つのBool列\n",
    "<br>\n",
    "e.g.<pre> |10> , [True,False] -> 10 , [True,True] -> 11 </pre>\n",
    "<br>\n",
    "２つのBool列は少なくとも一箇所異なっていることが保証されている。\n",
    "<br>\n",
    "<br>\n",
    "出力：与えられた量子ビット列がどちらのビット列によって表されているかを判別"
   ]
  },
  {
   "cell_type": "code",
   "execution_count": 40,
   "metadata": {},
   "outputs": [
    {
     "name": "stdout",
     "output_type": "stream",
     "text": [
      "enter length of qubit >>> 3\n",
      "enter 0 st bit of qubit >>> \n",
      "1\n",
      "enter 1 st bit of qubit >>> \n",
      "1\n",
      "enter 2 st bit of qubit >>> \n",
      "1\n",
      "enter 0 st bit of Bool1 >>> \n",
      "1\n",
      "enter 1 st bit of Bool1 >>> \n",
      "1\n",
      "enter 2 st bit of Bool1 >>> \n",
      "1\n",
      "enter 0 st bit of Bool2 >>> \n",
      "1\n",
      "enter 1 st bit of Bool2 >>> \n",
      "1\n",
      "enter 2 st bit of Bool2 >>> \n",
      "1\n",
      "qubit\n",
      "          ┌───┐\n",
      "q41_0: |0>┤ X ├\n",
      "          ├───┤\n",
      "q41_1: |0>┤ X ├\n",
      "          ├───┤\n",
      "q41_2: |0>┤ X ├\n",
      "          └───┘\n",
      " c41_0: 0 ═════\n",
      "               \n",
      " c41_1: 0 ═════\n",
      "               \n",
      " c41_2: 0 ═════\n",
      "               \n",
      "Bool1: [True, True, True]\n",
      "Bool2: [True, True, True]\n"
     ]
    }
   ],
   "source": [
    "#入力===========================\n",
    "#量子ビット\n",
    "N = int(input(\"enter length of qubit >>> \"))\n",
    "qN = QuantumRegister(N)\n",
    "cN = ClassicalRegister(N)\n",
    "qcN = QuantumCircuit(qN,cN) \n",
    "qubit = [0]*N\n",
    "for i in range(len(qubit)):\n",
    "    print(\"enter\" , i , \"st bit of qubit >>> \")\n",
    "    buffer = int(input())\n",
    "    qubit[i] = buffer\n",
    "    if buffer == 0:\n",
    "        pass\n",
    "    elif buffer == 1:\n",
    "        qcN.x(i)\n",
    "    else:\n",
    "        pass\n",
    "    \n",
    "#Bool列\n",
    "Bool1 = [True]*N\n",
    "Bool2 = [True]*N\n",
    "for i in range(len(Bool1)):\n",
    "    print(\"enter\" , i , \"st bit of Bool1 >>> \")\n",
    "    Bool1[i] = bool(input())\n",
    "for i in range(len(Bool2)):\n",
    "    print(\"enter\" , i , \"st bit of Bool2 >>> \")\n",
    "    Bool2[i] = bool(input())\n",
    "    \n",
    "print(\"qubit\")\n",
    "print(qcN)\n",
    "print(\"Bool1:\" , Bool1)\n",
    "print(\"Bool2:\" , Bool2)\n",
    "#===============================\n",
    "\n"
   ]
  },
  {
   "cell_type": "markdown",
   "metadata": {},
   "source": [
    "### G. Oracle for f(x)=k-th element of x\n",
    "入力：量子ビット列xと出力となる量子ビットy、そして整数k\n",
    "<br>\n",
    "出力：xのk番目の量子ビットが|0>なら何もせず、|1>なら出力となるyのビットを反転するオラクル"
   ]
  },
  {
   "cell_type": "code",
   "execution_count": 37,
   "metadata": {},
   "outputs": [
    {
     "name": "stdout",
     "output_type": "stream",
     "text": [
      "enter length of qubit x >>> 3\n",
      "enter length of qubit y >>> 3\n",
      "enter 0 st bit of qubit_x >>> \n",
      "1\n",
      "enter 1 st bit of qubit_x >>> \n",
      "1\n",
      "enter 2 st bit of qubit_x >>> \n",
      "0\n",
      "enter 0 st bit of qubit_y >>> \n",
      "0\n",
      "enter 1 st bit of qubit_y >>> \n",
      "1\n",
      "enter 2 st bit of qubit_y >>> \n",
      "1\n",
      "          ┌───┐\n",
      "q37_0: |0>┤ X ├\n",
      "          ├───┤\n",
      "q37_1: |0>┤ X ├\n",
      "          └───┘\n",
      "q37_2: |0>─────\n",
      "               \n",
      " c37_0: 0 ═════\n",
      "               \n",
      " c37_1: 0 ═════\n",
      "               \n",
      " c37_2: 0 ═════\n",
      "                               \n",
      "q38_0: |0>─────\n",
      "          ┌───┐\n",
      "q38_1: |0>┤ X ├\n",
      "          ├───┤\n",
      "q38_2: |0>┤ X ├\n",
      "          └───┘\n",
      " c38_0: 0 ═════\n",
      "               \n",
      " c38_1: 0 ═════\n",
      "               \n",
      " c38_2: 0 ═════\n",
      "               \n"
     ]
    }
   ],
   "source": [
    "#入力===========================\n",
    "#量子ビットx 初期化\n",
    "Nx = int(input(\"enter length of qubit x >>> \"))\n",
    "qNx = QuantumRegister(Nx)\n",
    "cNx = ClassicalRegister(Nx)\n",
    "qcNx = QuantumCircuit(qNx,cNx)\n",
    "#量子ビットy 初期化\n",
    "Ny = int(input(\"enter length of qubit y >>> \"))\n",
    "qNy = QuantumRegister(Ny)\n",
    "cNy = ClassicalRegister(Ny)\n",
    "qcNy = QuantumCircuit(qNy,cNy)\n",
    "\n",
    "#量子ビットx セット\n",
    "qubitx = [0]*Nx\n",
    "for i in range(len(qubitx)):\n",
    "    print(\"enter\" , i , \"st bit of qubit_x >>> \")\n",
    "    buffer = int(input())\n",
    "    qubitx[i] = buffer\n",
    "    if buffer == 0:\n",
    "        pass\n",
    "    elif buffer == 1:\n",
    "        qcNx.x(i)\n",
    "    else:\n",
    "        pass\n",
    "\n",
    "#量子ビットy セット\n",
    "qubity = [0]*Ny\n",
    "for i in range(len(qubity)):\n",
    "    print(\"enter\" , i , \"st bit of qubit_y >>> \")\n",
    "    buffer = int(input())\n",
    "    qubity[i] = buffer\n",
    "    if buffer == 0:\n",
    "        pass\n",
    "    elif buffer == 1:\n",
    "        qcNy.x(i)\n",
    "    else:\n",
    "        pass\n",
    "    \n",
    "print(\"qubit_x\")\n",
    "print(qcNx)\n",
    "print(\"qubit_y\")\n",
    "print(qcNy)\n",
    "#==============================="
   ]
  },
  {
   "cell_type": "markdown",
   "metadata": {},
   "source": [
    "### ***H. Oracle for f(x) = parity of the number of 1s in x***\n",
    "入力：量子ビット列x(n qbit)と出力となる量子ビットy(1 qbit)\n",
    "<br>\n",
    "出力：xのうち|1>の数が偶数なら何もせず、奇数だったら出力ビットを反転するオラクル"
   ]
  },
  {
   "cell_type": "code",
   "execution_count": 27,
   "metadata": {},
   "outputs": [
    {
     "output_type": "stream",
     "name": "stdout",
     "text": [
      "        ░            ░  ░            ░ \nq27_0: ─░────────────░──░────────────░─\n        ░ ┌───┐      ░  ░            ░ \nq27_1: ─░─┤ X ├──■───░──░────────────░─\n        ░ └───┘  │   ░  ░            ░ \nq27_2: ─░────────┼───░──░────────────░─\n        ░        │   ░  ░ ┌───┐      ░ \nq27_3: ─░────────┼───░──░─┤ X ├──■───░─\n        ░      ┌─┴─┐ ░  ░ └───┘┌─┴─┐ ░ \nq27_4: ─░──────┤ X ├─░──░──────┤ X ├─░─\n        ░      └───┘ ░  ░      └───┘ ░ \nc21: 5/════════════════════════════════\n                                       \n"
     ]
    }
   ],
   "source": [
    "from qiskit_basic_kit import *\n",
    "# 入力 =============================================\n",
    "X = [0,1,0,1]\n",
    "N = len(X) + 1\n",
    "# 量子回路 =====================================\n",
    "qN = QuantumRegister(N)\n",
    "cN = ClassicalRegister(N)\n",
    "qcN = QuantumCircuit(qN,cN)\n",
    "\n",
    "# 解 =============================================\n",
    "for i in range(len(X)):\n",
    "    if X[i] == 0:\n",
    "        pass\n",
    "    else:\n",
    "        qcN.x(i)\n",
    "        qcN.cx(i,N-1)\n",
    "    qcN.barrier()\n",
    "print(qcN)"
   ]
  },
  {
   "cell_type": "markdown",
   "metadata": {},
   "source": [
    "### I. Deutsch-Jozsa algorithm\n",
    "入力：n qbit\n",
    "<br>\n",
    "出力：入力がバランスかコンスタントかを判定"
   ]
  },
  {
   "cell_type": "code",
   "execution_count": 13,
   "metadata": {},
   "outputs": [
    {
     "output_type": "execute_result",
     "data": {
      "text/plain": [
       "<Figure size 808.416x325.08 with 1 Axes>"
      ],
      "image/svg+xml": "<?xml version=\"1.0\" encoding=\"utf-8\" standalone=\"no\"?>\n<!DOCTYPE svg PUBLIC \"-//W3C//DTD SVG 1.1//EN\"\n  \"http://www.w3.org/Graphics/SVG/1.1/DTD/svg11.dtd\">\n<!-- Created with matplotlib (https://matplotlib.org/) -->\n<svg height=\"259.8354pt\" version=\"1.1\" viewBox=\"0 0 624.75398 259.8354\" width=\"624.75398pt\" xmlns=\"http://www.w3.org/2000/svg\" xmlns:xlink=\"http://www.w3.org/1999/xlink\">\n <metadata>\n  <rdf:RDF xmlns:cc=\"http://creativecommons.org/ns#\" xmlns:dc=\"http://purl.org/dc/elements/1.1/\" xmlns:rdf=\"http://www.w3.org/1999/02/22-rdf-syntax-ns#\">\n   <cc:Work>\n    <dc:type rdf:resource=\"http://purl.org/dc/dcmitype/StillImage\"/>\n    <dc:date>2021-03-02T23:52:46.166267</dc:date>\n    <dc:format>image/svg+xml</dc:format>\n    <dc:creator>\n     <cc:Agent>\n      <dc:title>Matplotlib v3.3.3, https://matplotlib.org/</dc:title>\n     </cc:Agent>\n    </dc:creator>\n   </cc:Work>\n  </rdf:RDF>\n </metadata>\n <defs>\n  <style type=\"text/css\">*{stroke-linecap:butt;stroke-linejoin:round;}</style>\n </defs>\n <g id=\"figure_1\">\n  <g id=\"patch_1\">\n   <path d=\"M 0 259.8354 \nL 624.75398 259.8354 \nL 624.75398 0 \nL 0 0 \nz\n\" style=\"fill:#ffffff;\"/>\n  </g>\n  <g id=\"axes_1\">\n   <g id=\"line2d_1\">\n    <path clip-path=\"url(#p4136121c33)\" d=\"M 63.05178 43.5608 \nL 613.00888 43.5608 \n\" style=\"fill:none;stroke:#000000;stroke-linecap:square;stroke-width:2;\"/>\n   </g>\n   <g id=\"line2d_2\">\n    <path clip-path=\"url(#p4136121c33)\" d=\"M 63.05178 89.0118 \nL 613.00888 89.0118 \n\" style=\"fill:none;stroke:#000000;stroke-linecap:square;stroke-width:2;\"/>\n   </g>\n   <g id=\"line2d_3\">\n    <path clip-path=\"url(#p4136121c33)\" d=\"M 63.05178 134.4628 \nL 613.00888 134.4628 \n\" style=\"fill:none;stroke:#000000;stroke-linecap:square;stroke-width:2;\"/>\n   </g>\n   <g id=\"line2d_4\">\n    <path clip-path=\"url(#p4136121c33)\" d=\"M 63.05178 179.9138 \nL 613.00888 179.9138 \n\" style=\"fill:none;stroke:#000000;stroke-linecap:square;stroke-width:2;\"/>\n   </g>\n   <g id=\"line2d_5\">\n    <path clip-path=\"url(#p4136121c33)\" d=\"M 63.05178 225.3648 \nL 613.00888 225.3648 \n\" style=\"fill:none;stroke:#000000;stroke-linecap:square;stroke-width:2;\"/>\n   </g>\n   <g id=\"line2d_6\">\n    <path clip-path=\"url(#p4136121c33)\" d=\"M 133.04632 225.3648 \nL 133.04632 43.5608 \n\" style=\"fill:none;stroke:#bb8bff;stroke-linecap:square;stroke-width:2;\"/>\n   </g>\n   <g id=\"line2d_7\">\n    <path clip-path=\"url(#p4136121c33)\" d=\"M 269.39932 225.3648 \nL 269.39932 43.5608 \n\" style=\"fill:none;stroke:#bb8bff;stroke-linecap:square;stroke-width:2;\"/>\n   </g>\n   <g id=\"line2d_8\">\n    <path clip-path=\"url(#p4136121c33)\" d=\"M 405.75232 225.3648 \nL 405.75232 43.5608 \n\" style=\"fill:none;stroke:#bb8bff;stroke-linecap:square;stroke-width:2;\"/>\n   </g>\n   <g id=\"line2d_9\">\n    <path clip-path=\"url(#p4136121c33)\" d=\"M 542.10532 225.3648 \nL 542.10532 43.5608 \n\" style=\"fill:none;stroke:#bb8bff;stroke-linecap:square;stroke-width:2;\"/>\n   </g>\n   <g id=\"patch_2\">\n    <path clip-path=\"url(#p4136121c33)\" d=\"M 72.823745 149.234375 \nL 102.366895 149.234375 \nL 102.366895 119.691225 \nL 72.823745 119.691225 \nz\n\" style=\"fill:#05bab6;stroke:#05bab6;stroke-linejoin:miter;stroke-width:1.5;\"/>\n   </g>\n   <g id=\"patch_3\">\n    <path clip-path=\"url(#p4136121c33)\" d=\"M 133.04632 47.992272 \nC 134.22156 47.992272 135.348823 47.525345 136.179844 46.694324 \nC 137.010864 45.863304 137.477792 44.73604 137.477792 43.5608 \nC 137.477792 42.38556 137.010864 41.258296 136.179844 40.427276 \nC 135.348823 39.596255 134.22156 39.129327 133.04632 39.129327 \nC 131.871079 39.129327 130.743816 39.596255 129.912795 40.427276 \nC 129.081775 41.258296 128.614847 42.38556 128.614847 43.5608 \nC 128.614847 44.73604 129.081775 45.863304 129.912795 46.694324 \nC 130.743816 47.525345 131.871079 47.992272 133.04632 47.992272 \nz\n\" style=\"fill:#bb8bff;stroke:#bb8bff;stroke-linejoin:miter;stroke-width:1.5;\"/>\n   </g>\n   <g id=\"patch_4\">\n    <path clip-path=\"url(#p4136121c33)\" d=\"M 133.04632 93.443272 \nC 134.22156 93.443272 135.348823 92.976345 136.179844 92.145324 \nC 137.010864 91.314304 137.477792 90.18704 137.477792 89.0118 \nC 137.477792 87.83656 137.010864 86.709296 136.179844 85.878276 \nC 135.348823 85.047255 134.22156 84.580327 133.04632 84.580327 \nC 131.871079 84.580327 130.743816 85.047255 129.912795 85.878276 \nC 129.081775 86.709296 128.614847 87.83656 128.614847 89.0118 \nC 128.614847 90.18704 129.081775 91.314304 129.912795 92.145324 \nC 130.743816 92.976345 131.871079 93.443272 133.04632 93.443272 \nz\n\" style=\"fill:#bb8bff;stroke:#bb8bff;stroke-linejoin:miter;stroke-width:1.5;\"/>\n   </g>\n   <g id=\"patch_5\">\n    <path clip-path=\"url(#p4136121c33)\" d=\"M 133.04632 138.894272 \nC 134.22156 138.894272 135.348823 138.427345 136.179844 137.596324 \nC 137.010864 136.765304 137.477792 135.63804 137.477792 134.4628 \nC 137.477792 133.28756 137.010864 132.160296 136.179844 131.329276 \nC 135.348823 130.498255 134.22156 130.031327 133.04632 130.031327 \nC 131.871079 130.031327 130.743816 130.498255 129.912795 131.329276 \nC 129.081775 132.160296 128.614847 133.28756 128.614847 134.4628 \nC 128.614847 135.63804 129.081775 136.765304 129.912795 137.596324 \nC 130.743816 138.427345 131.871079 138.894272 133.04632 138.894272 \nz\n\" style=\"fill:#bb8bff;stroke:#bb8bff;stroke-linejoin:miter;stroke-width:1.5;\"/>\n   </g>\n   <g id=\"patch_6\">\n    <path clip-path=\"url(#p4136121c33)\" d=\"M 133.04632 190.253902 \nC 135.788547 190.253902 138.418829 189.164404 140.357876 187.225357 \nC 142.296924 185.286309 143.386422 182.656027 143.386422 179.9138 \nC 143.386422 177.171573 142.296924 174.541291 140.357876 172.602243 \nC 138.418829 170.663196 135.788547 169.573697 133.04632 169.573697 \nC 130.304092 169.573697 127.67381 170.663196 125.734763 172.602243 \nC 123.795716 174.541291 122.706217 177.171573 122.706217 179.9138 \nC 122.706217 182.656027 123.795716 185.286309 125.734763 187.225357 \nC 127.67381 189.164404 130.304092 190.253902 133.04632 190.253902 \nz\n\" style=\"fill:#bb8bff;stroke:#bb8bff;stroke-linejoin:miter;stroke-width:2;\"/>\n   </g>\n   <g id=\"patch_7\">\n    <path clip-path=\"url(#p4136121c33)\" d=\"M 163.725745 149.234375 \nL 193.268895 149.234375 \nL 193.268895 119.691225 \nL 163.725745 119.691225 \nz\n\" style=\"fill:#05bab6;stroke:#05bab6;stroke-linejoin:miter;stroke-width:1.5;\"/>\n   </g>\n   <g id=\"patch_8\">\n    <path clip-path=\"url(#p4136121c33)\" d=\"M 163.725745 103.783375 \nL 193.268895 103.783375 \nL 193.268895 74.240225 \nL 163.725745 74.240225 \nz\n\" style=\"fill:#05bab6;stroke:#05bab6;stroke-linejoin:miter;stroke-width:1.5;\"/>\n   </g>\n   <g id=\"patch_9\">\n    <path clip-path=\"url(#p4136121c33)\" d=\"M 209.176745 149.234375 \nL 238.719895 149.234375 \nL 238.719895 119.691225 \nL 209.176745 119.691225 \nz\n\" style=\"fill:#05bab6;stroke:#05bab6;stroke-linejoin:miter;stroke-width:1.5;\"/>\n   </g>\n   <g id=\"patch_10\">\n    <path clip-path=\"url(#p4136121c33)\" d=\"M 269.39932 47.992272 \nC 270.57456 47.992272 271.701823 47.525345 272.532844 46.694324 \nC 273.363864 45.863304 273.830792 44.73604 273.830792 43.5608 \nC 273.830792 42.38556 273.363864 41.258296 272.532844 40.427276 \nC 271.701823 39.596255 270.57456 39.129327 269.39932 39.129327 \nC 268.224079 39.129327 267.096816 39.596255 266.265795 40.427276 \nC 265.434775 41.258296 264.967847 42.38556 264.967847 43.5608 \nC 264.967847 44.73604 265.434775 45.863304 266.265795 46.694324 \nC 267.096816 47.525345 268.224079 47.992272 269.39932 47.992272 \nz\n\" style=\"fill:#bb8bff;stroke:#bb8bff;stroke-linejoin:miter;stroke-width:1.5;\"/>\n   </g>\n   <g id=\"patch_11\">\n    <path clip-path=\"url(#p4136121c33)\" d=\"M 269.39932 93.443272 \nC 270.57456 93.443272 271.701823 92.976345 272.532844 92.145324 \nC 273.363864 91.314304 273.830792 90.18704 273.830792 89.0118 \nC 273.830792 87.83656 273.363864 86.709296 272.532844 85.878276 \nC 271.701823 85.047255 270.57456 84.580327 269.39932 84.580327 \nC 268.224079 84.580327 267.096816 85.047255 266.265795 85.878276 \nC 265.434775 86.709296 264.967847 87.83656 264.967847 89.0118 \nC 264.967847 90.18704 265.434775 91.314304 266.265795 92.145324 \nC 267.096816 92.976345 268.224079 93.443272 269.39932 93.443272 \nz\n\" style=\"fill:#bb8bff;stroke:#bb8bff;stroke-linejoin:miter;stroke-width:1.5;\"/>\n   </g>\n   <g id=\"patch_12\">\n    <path clip-path=\"url(#p4136121c33)\" d=\"M 269.39932 138.894272 \nC 270.57456 138.894272 271.701823 138.427345 272.532844 137.596324 \nC 273.363864 136.765304 273.830792 135.63804 273.830792 134.4628 \nC 273.830792 133.28756 273.363864 132.160296 272.532844 131.329276 \nC 271.701823 130.498255 270.57456 130.031327 269.39932 130.031327 \nC 268.224079 130.031327 267.096816 130.498255 266.265795 131.329276 \nC 265.434775 132.160296 264.967847 133.28756 264.967847 134.4628 \nC 264.967847 135.63804 265.434775 136.765304 266.265795 137.596324 \nC 267.096816 138.427345 268.224079 138.894272 269.39932 138.894272 \nz\n\" style=\"fill:#bb8bff;stroke:#bb8bff;stroke-linejoin:miter;stroke-width:1.5;\"/>\n   </g>\n   <g id=\"patch_13\">\n    <path clip-path=\"url(#p4136121c33)\" d=\"M 269.39932 190.253902 \nC 272.141547 190.253902 274.771829 189.164404 276.710876 187.225357 \nC 278.649924 185.286309 279.739422 182.656027 279.739422 179.9138 \nC 279.739422 177.171573 278.649924 174.541291 276.710876 172.602243 \nC 274.771829 170.663196 272.141547 169.573697 269.39932 169.573697 \nC 266.657092 169.573697 264.02681 170.663196 262.087763 172.602243 \nC 260.148716 174.541291 259.059217 177.171573 259.059217 179.9138 \nC 259.059217 182.656027 260.148716 185.286309 262.087763 187.225357 \nC 264.02681 189.164404 266.657092 190.253902 269.39932 190.253902 \nz\n\" style=\"fill:#bb8bff;stroke:#bb8bff;stroke-linejoin:miter;stroke-width:2;\"/>\n   </g>\n   <g id=\"patch_14\">\n    <path clip-path=\"url(#p4136121c33)\" d=\"M 300.078745 103.783375 \nL 329.621895 103.783375 \nL 329.621895 74.240225 \nL 300.078745 74.240225 \nz\n\" style=\"fill:#05bab6;stroke:#05bab6;stroke-linejoin:miter;stroke-width:1.5;\"/>\n   </g>\n   <g id=\"patch_15\">\n    <path clip-path=\"url(#p4136121c33)\" d=\"M 300.078745 149.234375 \nL 329.621895 149.234375 \nL 329.621895 119.691225 \nL 300.078745 119.691225 \nz\n\" style=\"fill:#05bab6;stroke:#05bab6;stroke-linejoin:miter;stroke-width:1.5;\"/>\n   </g>\n   <g id=\"patch_16\">\n    <path clip-path=\"url(#p4136121c33)\" d=\"M 300.078745 58.332375 \nL 329.621895 58.332375 \nL 329.621895 28.789225 \nL 300.078745 28.789225 \nz\n\" style=\"fill:#05bab6;stroke:#05bab6;stroke-linejoin:miter;stroke-width:1.5;\"/>\n   </g>\n   <g id=\"patch_17\">\n    <path clip-path=\"url(#p4136121c33)\" d=\"M 345.529745 149.234375 \nL 375.072895 149.234375 \nL 375.072895 119.691225 \nL 345.529745 119.691225 \nz\n\" style=\"fill:#05bab6;stroke:#05bab6;stroke-linejoin:miter;stroke-width:1.5;\"/>\n   </g>\n   <g id=\"patch_18\">\n    <path clip-path=\"url(#p4136121c33)\" d=\"M 405.75232 47.992272 \nC 406.92756 47.992272 408.054823 47.525345 408.885844 46.694324 \nC 409.716864 45.863304 410.183792 44.73604 410.183792 43.5608 \nC 410.183792 42.38556 409.716864 41.258296 408.885844 40.427276 \nC 408.054823 39.596255 406.92756 39.129327 405.75232 39.129327 \nC 404.577079 39.129327 403.449816 39.596255 402.618795 40.427276 \nC 401.787775 41.258296 401.320847 42.38556 401.320847 43.5608 \nC 401.320847 44.73604 401.787775 45.863304 402.618795 46.694324 \nC 403.449816 47.525345 404.577079 47.992272 405.75232 47.992272 \nz\n\" style=\"fill:#bb8bff;stroke:#bb8bff;stroke-linejoin:miter;stroke-width:1.5;\"/>\n   </g>\n   <g id=\"patch_19\">\n    <path clip-path=\"url(#p4136121c33)\" d=\"M 405.75232 93.443272 \nC 406.92756 93.443272 408.054823 92.976345 408.885844 92.145324 \nC 409.716864 91.314304 410.183792 90.18704 410.183792 89.0118 \nC 410.183792 87.83656 409.716864 86.709296 408.885844 85.878276 \nC 408.054823 85.047255 406.92756 84.580327 405.75232 84.580327 \nC 404.577079 84.580327 403.449816 85.047255 402.618795 85.878276 \nC 401.787775 86.709296 401.320847 87.83656 401.320847 89.0118 \nC 401.320847 90.18704 401.787775 91.314304 402.618795 92.145324 \nC 403.449816 92.976345 404.577079 93.443272 405.75232 93.443272 \nz\n\" style=\"fill:#bb8bff;stroke:#bb8bff;stroke-linejoin:miter;stroke-width:1.5;\"/>\n   </g>\n   <g id=\"patch_20\">\n    <path clip-path=\"url(#p4136121c33)\" d=\"M 405.75232 138.894272 \nC 406.92756 138.894272 408.054823 138.427345 408.885844 137.596324 \nC 409.716864 136.765304 410.183792 135.63804 410.183792 134.4628 \nC 410.183792 133.28756 409.716864 132.160296 408.885844 131.329276 \nC 408.054823 130.498255 406.92756 130.031327 405.75232 130.031327 \nC 404.577079 130.031327 403.449816 130.498255 402.618795 131.329276 \nC 401.787775 132.160296 401.320847 133.28756 401.320847 134.4628 \nC 401.320847 135.63804 401.787775 136.765304 402.618795 137.596324 \nC 403.449816 138.427345 404.577079 138.894272 405.75232 138.894272 \nz\n\" style=\"fill:#bb8bff;stroke:#bb8bff;stroke-linejoin:miter;stroke-width:1.5;\"/>\n   </g>\n   <g id=\"patch_21\">\n    <path clip-path=\"url(#p4136121c33)\" d=\"M 405.75232 190.253902 \nC 408.494547 190.253902 411.124829 189.164404 413.063876 187.225357 \nC 415.002924 185.286309 416.092422 182.656027 416.092422 179.9138 \nC 416.092422 177.171573 415.002924 174.541291 413.063876 172.602243 \nC 411.124829 170.663196 408.494547 169.573697 405.75232 169.573697 \nC 403.010092 169.573697 400.37981 170.663196 398.440763 172.602243 \nC 396.501716 174.541291 395.412217 177.171573 395.412217 179.9138 \nC 395.412217 182.656027 396.501716 185.286309 398.440763 187.225357 \nC 400.37981 189.164404 403.010092 190.253902 405.75232 190.253902 \nz\n\" style=\"fill:#bb8bff;stroke:#bb8bff;stroke-linejoin:miter;stroke-width:2;\"/>\n   </g>\n   <g id=\"patch_22\">\n    <path clip-path=\"url(#p4136121c33)\" d=\"M 436.431745 58.332375 \nL 465.974895 58.332375 \nL 465.974895 28.789225 \nL 436.431745 28.789225 \nz\n\" style=\"fill:#05bab6;stroke:#05bab6;stroke-linejoin:miter;stroke-width:1.5;\"/>\n   </g>\n   <g id=\"patch_23\">\n    <path clip-path=\"url(#p4136121c33)\" d=\"M 436.431745 149.234375 \nL 465.974895 149.234375 \nL 465.974895 119.691225 \nL 436.431745 119.691225 \nz\n\" style=\"fill:#05bab6;stroke:#05bab6;stroke-linejoin:miter;stroke-width:1.5;\"/>\n   </g>\n   <g id=\"patch_24\">\n    <path clip-path=\"url(#p4136121c33)\" d=\"M 436.431745 103.783375 \nL 465.974895 103.783375 \nL 465.974895 74.240225 \nL 436.431745 74.240225 \nz\n\" style=\"fill:#05bab6;stroke:#05bab6;stroke-linejoin:miter;stroke-width:1.5;\"/>\n   </g>\n   <g id=\"patch_25\">\n    <path clip-path=\"url(#p4136121c33)\" d=\"M 481.882745 58.332375 \nL 511.425895 58.332375 \nL 511.425895 28.789225 \nL 481.882745 28.789225 \nz\n\" style=\"fill:#05bab6;stroke:#05bab6;stroke-linejoin:miter;stroke-width:1.5;\"/>\n   </g>\n   <g id=\"patch_26\">\n    <path clip-path=\"url(#p4136121c33)\" d=\"M 481.882745 149.234375 \nL 511.425895 149.234375 \nL 511.425895 119.691225 \nL 481.882745 119.691225 \nz\n\" style=\"fill:#05bab6;stroke:#05bab6;stroke-linejoin:miter;stroke-width:1.5;\"/>\n   </g>\n   <g id=\"patch_27\">\n    <path clip-path=\"url(#p4136121c33)\" d=\"M 542.10532 47.992272 \nC 543.28056 47.992272 544.407823 47.525345 545.238844 46.694324 \nC 546.069864 45.863304 546.536792 44.73604 546.536792 43.5608 \nC 546.536792 42.38556 546.069864 41.258296 545.238844 40.427276 \nC 544.407823 39.596255 543.28056 39.129327 542.10532 39.129327 \nC 540.930079 39.129327 539.802816 39.596255 538.971795 40.427276 \nC 538.140775 41.258296 537.673847 42.38556 537.673847 43.5608 \nC 537.673847 44.73604 538.140775 45.863304 538.971795 46.694324 \nC 539.802816 47.525345 540.930079 47.992272 542.10532 47.992272 \nz\n\" style=\"fill:#bb8bff;stroke:#bb8bff;stroke-linejoin:miter;stroke-width:1.5;\"/>\n   </g>\n   <g id=\"patch_28\">\n    <path clip-path=\"url(#p4136121c33)\" d=\"M 542.10532 93.443272 \nC 543.28056 93.443272 544.407823 92.976345 545.238844 92.145324 \nC 546.069864 91.314304 546.536792 90.18704 546.536792 89.0118 \nC 546.536792 87.83656 546.069864 86.709296 545.238844 85.878276 \nC 544.407823 85.047255 543.28056 84.580327 542.10532 84.580327 \nC 540.930079 84.580327 539.802816 85.047255 538.971795 85.878276 \nC 538.140775 86.709296 537.673847 87.83656 537.673847 89.0118 \nC 537.673847 90.18704 538.140775 91.314304 538.971795 92.145324 \nC 539.802816 92.976345 540.930079 93.443272 542.10532 93.443272 \nz\n\" style=\"fill:#bb8bff;stroke:#bb8bff;stroke-linejoin:miter;stroke-width:1.5;\"/>\n   </g>\n   <g id=\"patch_29\">\n    <path clip-path=\"url(#p4136121c33)\" d=\"M 542.10532 138.894272 \nC 543.28056 138.894272 544.407823 138.427345 545.238844 137.596324 \nC 546.069864 136.765304 546.536792 135.63804 546.536792 134.4628 \nC 546.536792 133.28756 546.069864 132.160296 545.238844 131.329276 \nC 544.407823 130.498255 543.28056 130.031327 542.10532 130.031327 \nC 540.930079 130.031327 539.802816 130.498255 538.971795 131.329276 \nC 538.140775 132.160296 537.673847 133.28756 537.673847 134.4628 \nC 537.673847 135.63804 538.140775 136.765304 538.971795 137.596324 \nC 539.802816 138.427345 540.930079 138.894272 542.10532 138.894272 \nz\n\" style=\"fill:#bb8bff;stroke:#bb8bff;stroke-linejoin:miter;stroke-width:1.5;\"/>\n   </g>\n   <g id=\"patch_30\">\n    <path clip-path=\"url(#p4136121c33)\" d=\"M 542.10532 190.253902 \nC 544.847547 190.253902 547.477829 189.164404 549.416876 187.225357 \nC 551.355924 185.286309 552.445422 182.656027 552.445422 179.9138 \nC 552.445422 177.171573 551.355924 174.541291 549.416876 172.602243 \nC 547.477829 170.663196 544.847547 169.573697 542.10532 169.573697 \nC 539.363092 169.573697 536.73281 170.663196 534.793763 172.602243 \nC 532.854716 174.541291 531.765217 177.171573 531.765217 179.9138 \nC 531.765217 182.656027 532.854716 185.286309 534.793763 187.225357 \nC 536.73281 189.164404 539.363092 190.253902 542.10532 190.253902 \nz\n\" style=\"fill:#bb8bff;stroke:#bb8bff;stroke-linejoin:miter;stroke-width:2;\"/>\n   </g>\n   <g id=\"patch_31\">\n    <path clip-path=\"url(#p4136121c33)\" d=\"M 572.784745 58.332375 \nL 602.327895 58.332375 \nL 602.327895 28.789225 \nL 572.784745 28.789225 \nz\n\" style=\"fill:#05bab6;stroke:#05bab6;stroke-linejoin:miter;stroke-width:1.5;\"/>\n   </g>\n   <g id=\"patch_32\">\n    <path clip-path=\"url(#p4136121c33)\" d=\"M 572.784745 103.783375 \nL 602.327895 103.783375 \nL 602.327895 74.240225 \nL 572.784745 74.240225 \nz\n\" style=\"fill:#05bab6;stroke:#05bab6;stroke-linejoin:miter;stroke-width:1.5;\"/>\n   </g>\n   <g id=\"patch_33\">\n    <path clip-path=\"url(#p4136121c33)\" d=\"M 572.784745 149.234375 \nL 602.327895 149.234375 \nL 602.327895 119.691225 \nL 572.784745 119.691225 \nz\n\" style=\"fill:#05bab6;stroke:#05bab6;stroke-linejoin:miter;stroke-width:1.5;\"/>\n   </g>\n   <g id=\"line2d_10\">\n    <path clip-path=\"url(#p4136121c33)\" d=\"M 133.04632 185.82243 \nL 133.04632 174.00517 \n\" style=\"fill:none;stroke:#ffffff;stroke-linecap:square;stroke-width:2;\"/>\n   </g>\n   <g id=\"line2d_11\">\n    <path clip-path=\"url(#p4136121c33)\" d=\"M 127.13769 179.9138 \nL 138.95495 179.9138 \n\" style=\"fill:none;stroke:#ffffff;stroke-linecap:square;stroke-width:2;\"/>\n   </g>\n   <g id=\"line2d_12\">\n    <path clip-path=\"url(#p4136121c33)\" d=\"M 269.39932 185.82243 \nL 269.39932 174.00517 \n\" style=\"fill:none;stroke:#ffffff;stroke-linecap:square;stroke-width:2;\"/>\n   </g>\n   <g id=\"line2d_13\">\n    <path clip-path=\"url(#p4136121c33)\" d=\"M 263.49069 179.9138 \nL 275.30795 179.9138 \n\" style=\"fill:none;stroke:#ffffff;stroke-linecap:square;stroke-width:2;\"/>\n   </g>\n   <g id=\"line2d_14\">\n    <path clip-path=\"url(#p4136121c33)\" d=\"M 405.75232 185.82243 \nL 405.75232 174.00517 \n\" style=\"fill:none;stroke:#ffffff;stroke-linecap:square;stroke-width:2;\"/>\n   </g>\n   <g id=\"line2d_15\">\n    <path clip-path=\"url(#p4136121c33)\" d=\"M 399.84369 179.9138 \nL 411.66095 179.9138 \n\" style=\"fill:none;stroke:#ffffff;stroke-linecap:square;stroke-width:2;\"/>\n   </g>\n   <g id=\"line2d_16\">\n    <path clip-path=\"url(#p4136121c33)\" d=\"M 542.10532 185.82243 \nL 542.10532 174.00517 \n\" style=\"fill:none;stroke:#ffffff;stroke-linecap:square;stroke-width:2;\"/>\n   </g>\n   <g id=\"line2d_17\">\n    <path clip-path=\"url(#p4136121c33)\" d=\"M 536.19669 179.9138 \nL 548.01395 179.9138 \n\" style=\"fill:none;stroke:#ffffff;stroke-linecap:square;stroke-width:2;\"/>\n   </g>\n   <g id=\"text_1\">\n    <g clip-path=\"url(#p4136121c33)\">\n     <!-- X -->\n     <g transform=\"translate(83.14282 138.049987)scale(0.13 -0.13)\">\n      <defs>\n       <path d=\"M 6.296875 72.90625 \nL 16.890625 72.90625 \nL 35.015625 45.796875 \nL 53.21875 72.90625 \nL 63.8125 72.90625 \nL 40.375 37.890625 \nL 65.375 0 \nL 54.78125 0 \nL 34.28125 31 \nL 13.625 0 \nL 2.984375 0 \nL 29 38.921875 \nz\n\" id=\"DejaVuSans-88\"/>\n      </defs>\n      <use xlink:href=\"#DejaVuSans-88\"/>\n     </g>\n    </g>\n   </g>\n   <g id=\"text_2\">\n    <g clip-path=\"url(#p4136121c33)\">\n     <!-- X -->\n     <g transform=\"translate(174.04482 138.049987)scale(0.13 -0.13)\">\n      <use xlink:href=\"#DejaVuSans-88\"/>\n     </g>\n    </g>\n   </g>\n   <g id=\"text_3\">\n    <g clip-path=\"url(#p4136121c33)\">\n     <!-- X -->\n     <g transform=\"translate(174.04482 92.598987)scale(0.13 -0.13)\">\n      <use xlink:href=\"#DejaVuSans-88\"/>\n     </g>\n    </g>\n   </g>\n   <g id=\"text_4\">\n    <g clip-path=\"url(#p4136121c33)\">\n     <!-- X -->\n     <g transform=\"translate(219.49582 138.049987)scale(0.13 -0.13)\">\n      <use xlink:href=\"#DejaVuSans-88\"/>\n     </g>\n    </g>\n   </g>\n   <g id=\"text_5\">\n    <g clip-path=\"url(#p4136121c33)\">\n     <!-- X -->\n     <g transform=\"translate(310.39782 92.598987)scale(0.13 -0.13)\">\n      <use xlink:href=\"#DejaVuSans-88\"/>\n     </g>\n    </g>\n   </g>\n   <g id=\"text_6\">\n    <g clip-path=\"url(#p4136121c33)\">\n     <!-- X -->\n     <g transform=\"translate(310.39782 138.049987)scale(0.13 -0.13)\">\n      <use xlink:href=\"#DejaVuSans-88\"/>\n     </g>\n    </g>\n   </g>\n   <g id=\"text_7\">\n    <g clip-path=\"url(#p4136121c33)\">\n     <!-- X -->\n     <g transform=\"translate(310.39782 47.147987)scale(0.13 -0.13)\">\n      <use xlink:href=\"#DejaVuSans-88\"/>\n     </g>\n    </g>\n   </g>\n   <g id=\"text_8\">\n    <g clip-path=\"url(#p4136121c33)\">\n     <!-- X -->\n     <g transform=\"translate(355.84882 138.049987)scale(0.13 -0.13)\">\n      <use xlink:href=\"#DejaVuSans-88\"/>\n     </g>\n    </g>\n   </g>\n   <g id=\"text_9\">\n    <g clip-path=\"url(#p4136121c33)\">\n     <!-- X -->\n     <g transform=\"translate(446.75082 47.147987)scale(0.13 -0.13)\">\n      <use xlink:href=\"#DejaVuSans-88\"/>\n     </g>\n    </g>\n   </g>\n   <g id=\"text_10\">\n    <g clip-path=\"url(#p4136121c33)\">\n     <!-- X -->\n     <g transform=\"translate(446.75082 138.049987)scale(0.13 -0.13)\">\n      <use xlink:href=\"#DejaVuSans-88\"/>\n     </g>\n    </g>\n   </g>\n   <g id=\"text_11\">\n    <g clip-path=\"url(#p4136121c33)\">\n     <!-- X -->\n     <g transform=\"translate(446.75082 92.598987)scale(0.13 -0.13)\">\n      <use xlink:href=\"#DejaVuSans-88\"/>\n     </g>\n    </g>\n   </g>\n   <g id=\"text_12\">\n    <g clip-path=\"url(#p4136121c33)\">\n     <!-- X -->\n     <g transform=\"translate(492.20182 47.147987)scale(0.13 -0.13)\">\n      <use xlink:href=\"#DejaVuSans-88\"/>\n     </g>\n    </g>\n   </g>\n   <g id=\"text_13\">\n    <g clip-path=\"url(#p4136121c33)\">\n     <!-- X -->\n     <g transform=\"translate(492.20182 138.049987)scale(0.13 -0.13)\">\n      <use xlink:href=\"#DejaVuSans-88\"/>\n     </g>\n    </g>\n   </g>\n   <g id=\"text_14\">\n    <g clip-path=\"url(#p4136121c33)\">\n     <!-- X -->\n     <g transform=\"translate(583.10382 47.147987)scale(0.13 -0.13)\">\n      <use xlink:href=\"#DejaVuSans-88\"/>\n     </g>\n    </g>\n   </g>\n   <g id=\"text_15\">\n    <g clip-path=\"url(#p4136121c33)\">\n     <!-- X -->\n     <g transform=\"translate(583.10382 92.598987)scale(0.13 -0.13)\">\n      <use xlink:href=\"#DejaVuSans-88\"/>\n     </g>\n    </g>\n   </g>\n   <g id=\"text_16\">\n    <g clip-path=\"url(#p4136121c33)\">\n     <!-- X -->\n     <g transform=\"translate(583.10382 138.049987)scale(0.13 -0.13)\">\n      <use xlink:href=\"#DejaVuSans-88\"/>\n     </g>\n    </g>\n   </g>\n   <g id=\"text_17\">\n    <g clip-path=\"url(#p4136121c33)\">\n     <!-- ${v}_{0}$ -->\n     <g transform=\"translate(36.57408 48.044784)scale(0.1625 -0.1625)\">\n      <defs>\n       <path d=\"M 7.171875 54.6875 \nL 16.703125 54.6875 \nL 24.703125 8.203125 \nL 50.875 54.6875 \nL 60.40625 54.6875 \nL 29.296875 0 \nL 17.1875 0 \nz\n\" id=\"DejaVuSans-Oblique-118\"/>\n       <path d=\"M 31.78125 66.40625 \nQ 24.171875 66.40625 20.328125 58.90625 \nQ 16.5 51.421875 16.5 36.375 \nQ 16.5 21.390625 20.328125 13.890625 \nQ 24.171875 6.390625 31.78125 6.390625 \nQ 39.453125 6.390625 43.28125 13.890625 \nQ 47.125 21.390625 47.125 36.375 \nQ 47.125 51.421875 43.28125 58.90625 \nQ 39.453125 66.40625 31.78125 66.40625 \nz\nM 31.78125 74.21875 \nQ 44.046875 74.21875 50.515625 64.515625 \nQ 56.984375 54.828125 56.984375 36.375 \nQ 56.984375 17.96875 50.515625 8.265625 \nQ 44.046875 -1.421875 31.78125 -1.421875 \nQ 19.53125 -1.421875 13.0625 8.265625 \nQ 6.59375 17.96875 6.59375 36.375 \nQ 6.59375 54.828125 13.0625 64.515625 \nQ 19.53125 74.21875 31.78125 74.21875 \nz\n\" id=\"DejaVuSans-48\"/>\n      </defs>\n      <use transform=\"translate(0 0.3125)\" xlink:href=\"#DejaVuSans-Oblique-118\"/>\n      <use transform=\"translate(59.179688 -16.09375)scale(0.7)\" xlink:href=\"#DejaVuSans-48\"/>\n     </g>\n    </g>\n   </g>\n   <g id=\"text_18\">\n    <g clip-path=\"url(#p4136121c33)\">\n     <!-- ${v}_{1}$ -->\n     <g transform=\"translate(36.57408 93.495784)scale(0.1625 -0.1625)\">\n      <defs>\n       <path d=\"M 12.40625 8.296875 \nL 28.515625 8.296875 \nL 28.515625 63.921875 \nL 10.984375 60.40625 \nL 10.984375 69.390625 \nL 28.421875 72.90625 \nL 38.28125 72.90625 \nL 38.28125 8.296875 \nL 54.390625 8.296875 \nL 54.390625 0 \nL 12.40625 0 \nz\n\" id=\"DejaVuSans-49\"/>\n      </defs>\n      <use transform=\"translate(0 0.3125)\" xlink:href=\"#DejaVuSans-Oblique-118\"/>\n      <use transform=\"translate(59.179688 -16.09375)scale(0.7)\" xlink:href=\"#DejaVuSans-49\"/>\n     </g>\n    </g>\n   </g>\n   <g id=\"text_19\">\n    <g clip-path=\"url(#p4136121c33)\">\n     <!-- ${v}_{2}$ -->\n     <g transform=\"translate(36.57408 138.946784)scale(0.1625 -0.1625)\">\n      <defs>\n       <path d=\"M 19.1875 8.296875 \nL 53.609375 8.296875 \nL 53.609375 0 \nL 7.328125 0 \nL 7.328125 8.296875 \nQ 12.9375 14.109375 22.625 23.890625 \nQ 32.328125 33.6875 34.8125 36.53125 \nQ 39.546875 41.84375 41.421875 45.53125 \nQ 43.3125 49.21875 43.3125 52.78125 \nQ 43.3125 58.59375 39.234375 62.25 \nQ 35.15625 65.921875 28.609375 65.921875 \nQ 23.96875 65.921875 18.8125 64.3125 \nQ 13.671875 62.703125 7.8125 59.421875 \nL 7.8125 69.390625 \nQ 13.765625 71.78125 18.9375 73 \nQ 24.125 74.21875 28.421875 74.21875 \nQ 39.75 74.21875 46.484375 68.546875 \nQ 53.21875 62.890625 53.21875 53.421875 \nQ 53.21875 48.921875 51.53125 44.890625 \nQ 49.859375 40.875 45.40625 35.40625 \nQ 44.1875 33.984375 37.640625 27.21875 \nQ 31.109375 20.453125 19.1875 8.296875 \nz\n\" id=\"DejaVuSans-50\"/>\n      </defs>\n      <use transform=\"translate(0 0.3125)\" xlink:href=\"#DejaVuSans-Oblique-118\"/>\n      <use transform=\"translate(59.179688 -16.09375)scale(0.7)\" xlink:href=\"#DejaVuSans-50\"/>\n     </g>\n    </g>\n   </g>\n   <g id=\"text_20\">\n    <g clip-path=\"url(#p4136121c33)\">\n     <!-- ${o}_{0}$ -->\n     <g transform=\"translate(36.24908 184.397784)scale(0.1625 -0.1625)\">\n      <defs>\n       <path d=\"M 25.390625 -1.421875 \nQ 15.765625 -1.421875 10.171875 4.515625 \nQ 4.59375 10.453125 4.59375 20.703125 \nQ 4.59375 26.65625 6.515625 32.828125 \nQ 8.453125 39.015625 11.53125 43.21875 \nQ 16.359375 49.75 22.3125 52.875 \nQ 28.265625 56 35.796875 56 \nQ 45.125 56 50.859375 50.1875 \nQ 56.59375 44.390625 56.59375 35.015625 \nQ 56.59375 28.515625 54.6875 22.0625 \nQ 52.78125 15.625 49.703125 11.375 \nQ 44.921875 4.828125 38.96875 1.703125 \nQ 33.015625 -1.421875 25.390625 -1.421875 \nz\nM 13.921875 21 \nQ 13.921875 13.578125 17.015625 9.890625 \nQ 20.125 6.203125 26.421875 6.203125 \nQ 35.453125 6.203125 41.375 14.078125 \nQ 47.3125 21.96875 47.3125 34.078125 \nQ 47.3125 41.15625 44.140625 44.765625 \nQ 40.96875 48.390625 34.8125 48.390625 \nQ 29.734375 48.390625 25.78125 46.015625 \nQ 21.828125 43.65625 18.703125 38.8125 \nQ 16.40625 35.203125 15.15625 30.5625 \nQ 13.921875 25.921875 13.921875 21 \nz\n\" id=\"DejaVuSans-Oblique-111\"/>\n      </defs>\n      <use xlink:href=\"#DejaVuSans-Oblique-111\"/>\n      <use transform=\"translate(61.181641 -16.40625)scale(0.7)\" xlink:href=\"#DejaVuSans-48\"/>\n     </g>\n    </g>\n   </g>\n   <g id=\"text_21\">\n    <g clip-path=\"url(#p4136121c33)\">\n     <!-- ${a}_{0}$ -->\n     <g transform=\"translate(36.24908 229.848784)scale(0.1625 -0.1625)\">\n      <defs>\n       <path d=\"M 53.71875 31.203125 \nL 47.609375 0 \nL 38.625 0 \nL 40.28125 8.296875 \nQ 36.328125 3.421875 31.265625 1 \nQ 26.21875 -1.421875 20.015625 -1.421875 \nQ 13.03125 -1.421875 8.5625 2.84375 \nQ 4.109375 7.125 4.109375 13.8125 \nQ 4.109375 23.390625 11.75 28.953125 \nQ 19.390625 34.515625 32.8125 34.515625 \nL 45.3125 34.515625 \nL 45.796875 36.921875 \nQ 45.90625 37.3125 45.953125 37.765625 \nQ 46 38.234375 46 39.203125 \nQ 46 43.5625 42.453125 45.96875 \nQ 38.921875 48.390625 32.515625 48.390625 \nQ 28.125 48.390625 23.5 47.265625 \nQ 18.890625 46.140625 14.015625 43.890625 \nL 15.578125 52.203125 \nQ 20.65625 54.109375 25.515625 55.046875 \nQ 30.375 56 34.90625 56 \nQ 44.578125 56 49.625 51.796875 \nQ 54.6875 47.609375 54.6875 39.59375 \nQ 54.6875 37.984375 54.4375 35.8125 \nQ 54.203125 33.640625 53.71875 31.203125 \nz\nM 44 27.484375 \nL 35.015625 27.484375 \nQ 23.96875 27.484375 18.671875 24.53125 \nQ 13.375 21.578125 13.375 15.375 \nQ 13.375 11.078125 16.078125 8.640625 \nQ 18.796875 6.203125 23.578125 6.203125 \nQ 30.90625 6.203125 36.375 11.453125 \nQ 41.84375 16.703125 43.609375 25.484375 \nz\n\" id=\"DejaVuSans-Oblique-97\"/>\n      </defs>\n      <use xlink:href=\"#DejaVuSans-Oblique-97\"/>\n      <use transform=\"translate(61.279297 -16.40625)scale(0.7)\" xlink:href=\"#DejaVuSans-48\"/>\n     </g>\n    </g>\n   </g>\n  </g>\n </g>\n <defs>\n  <clipPath id=\"p4136121c33\">\n   <rect height=\"245.4354\" width=\"610.35398\" x=\"7.2\" y=\"7.2\"/>\n  </clipPath>\n </defs>\n</svg>\n",
      "image/png": "[encoded data removed]"
     },
     "metadata": {},
     "execution_count": 13
    }
   ],
   "source": [
    "import math\n",
    "import numpy as np\n",
    "from qiskit import BasicAer\n",
    "from qiskit.aqua import QuantumInstance\n",
    "\n",
    "# 入力：関数fの出力値の文字列bitstr\n",
    "bitstr = '11110000'\n",
    "# オラクル作成\n",
    "# TruthTableOracleを使うと関数fの出力を返すような真理値表に対応するオラクルを作成してくれる\n",
    "from qiskit.aqua.algorithms import DeutschJozsa\n",
    "from qiskit.aqua.components.oracles import TruthTableOracle\n",
    "oracle = TruthTableOracle(bitstr)\n",
    "# オラクルを表示してみる\n",
    "oracle.circuit.draw(output='mpl')"
   ]
  },
  {
   "source": [
    "見ての通り、 𝑣𝑖\n",
    " は三つの入力ビットに、 𝑜0\n",
    " はオラクルの出力ビットに、 𝑎0\n",
    " は補助ビットにそれぞれ対応しています。\n",
    "\n",
    "次に、オラクルを用いて DeutschJozsa インスタンスを作成し、実行して結果を確認します。"
   ],
   "cell_type": "markdown",
   "metadata": {}
  },
  {
   "cell_type": "code",
   "execution_count": 14,
   "metadata": {},
   "outputs": [
    {
     "output_type": "stream",
     "name": "stdout",
     "text": [
      "The truth table 11110000 represents a 'balanced' function.\n"
     ]
    }
   ],
   "source": [
    "dj = DeutschJozsa(oracle)\n",
    "backend = BasicAer.get_backend('qasm_simulator')\n",
    "result = dj.run(QuantumInstance(backend, shots=1024))\n",
    "print(f'The truth table {bitstr} represents a \\'{result[\"result\"]}\\' function.')"
   ]
  },
  {
   "cell_type": "code",
   "execution_count": null,
   "metadata": {},
   "outputs": [],
   "source": []
  }
 ],
 "metadata": {
  "kernelspec": {
   "display_name": "Python 3",
   "language": "python",
   "name": "python3"
  },
  "language_info": {
   "codemirror_mode": {
    "name": "ipython",
    "version": 3
   },
   "file_extension": ".py",
   "mimetype": "text/x-python",
   "name": "python",
   "nbconvert_exporter": "python",
   "pygments_lexer": "ipython3",
   "version": "3.8.0-final"
  }
 },
 "nbformat": 4,
 "nbformat_minor": 2
}