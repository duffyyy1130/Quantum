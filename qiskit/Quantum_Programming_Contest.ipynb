{
 "cells": [
  {
   "cell_type": "markdown",
   "metadata": {},
   "source": [
    "# Microsoft Q# Coding Contest - Summer 2018"
   ]
  },
  {
   "cell_type": "code",
   "execution_count": 1,
   "metadata": {},
   "outputs": [],
   "source": [
    "import qiskit\n",
    "#量子ビットモジュール\n",
    "from qiskit import QuantumRegister\n",
    "from qiskit import QuantumCircuit\n",
    "#古典ビットモジュール\n",
    "from qiskit import ClassicalRegister\n",
    "from qiskit import Aer\n",
    "from qiskit import execute"
   ]
  },
  {
   "cell_type": "code",
   "execution_count": 2,
   "metadata": {},
   "outputs": [],
   "source": [
    "# 1 量子ビットを定義する\n",
    "q1 = QuantumRegister(1)\n",
    "# 1 古典ビットを定義する\n",
    "c1 = ClassicalRegister(1)\n",
    "# 結果の個数をカウントする (1000ショット)\n",
    "def get_result(qc, shots=1000):\n",
    "    simulator = Aer.get_backend('qasm_simulator')\n",
    "    return execute(qc, simulator, shots=shots).result().get_counts(qc)\n",
    "# 行列を表示する\n",
    "def get_unitary(qc):\n",
    "    simulator = Aer.get_backend('unitary_simulator') \n",
    "    return execute(qc, simulator).result().get_unitary(qc)"
   ]
  },
  {
   "cell_type": "markdown",
   "metadata": {},
   "source": [
    "##### EPR対"
   ]
  },
  {
   "cell_type": "code",
   "execution_count": 3,
   "metadata": {},
   "outputs": [
    {
     "output_type": "stream",
     "name": "stdout",
     "text": [
      "after cx\n      ┌───┐     ┌─┐   \nq1_0: ┤ H ├──■──┤M├───\n      └───┘┌─┴─┐└╥┘┌─┐\nq1_1: ─────┤ X ├─╫─┤M├\n           └───┘ ║ └╥┘\nc1: 2/═══════════╩══╩═\n                 0  1 \n"
     ]
    },
    {
     "output_type": "execute_result",
     "data": {
      "text/plain": [
       "{'00': 4967, '11': 5033}"
      ]
     },
     "metadata": {},
     "execution_count": 3
    }
   ],
   "source": [
    "q2 = QuantumRegister(2)\n",
    "c2 = ClassicalRegister(2)\n",
    "qc2 = QuantumCircuit(q2,c2)\n",
    "# Xゲートを第一ビットに適用\n",
    "qc2.h(0)\n",
    "# 制御NOTゲートを2ビットに適用 cx(controlled_bit, target_bit) \n",
    "qc2.cx(0,1)\n",
    "qc2.measure(q2,c2)\n",
    "print('after cx') \n",
    "\n",
    "#量子回路表示\n",
    "print(qc2)\n",
    "get_result(qc2,10000)"
   ]
  },
  {
   "cell_type": "markdown",
   "metadata": {},
   "source": [
    "## Warmup ラウンド"
   ]
  },
  {
   "cell_type": "markdown",
   "metadata": {},
   "source": [
    "### A. Generate plus state or minus state"
   ]
  },
  {
   "cell_type": "code",
   "execution_count": 4,
   "metadata": {},
   "outputs": [
    {
     "output_type": "stream",
     "name": "stdout",
     "text": [
      "[[ 0.70710678+0.00000000e+00j  0.70710678-8.65956056e-17j]\n [ 0.70710678+0.00000000e+00j -0.70710678+8.65956056e-17j]]\n{'0': 482, '1': 518}\n      ┌───┐┌─┐\nq0_0: ┤ H ├┤M├\n      └───┘└╥┘\nc0: 1/══════╩═\n            0 \n"
     ]
    }
   ],
   "source": [
    "qc1 = QuantumCircuit(q1,c1)\n",
    "\n",
    "switch = int(input(\"switch >>> \"))\n",
    "\n",
    "if switch == 1:\n",
    "    qc1.h(0)\n",
    "    print(get_unitary(qc1)) \n",
    "    qc1.measure(q1,c1) \n",
    "    print(get_result(qc1))\n",
    "    #量子回路表示\n",
    "    print(qc1)\n",
    "    \n",
    "if switch == 0:\n",
    "    qc1.x(0)\n",
    "    qc1.h(0)\n",
    "    print(get_unitary(qc1)) \n",
    "    qc1.measure(q1,c1) \n",
    "    print(get_result(qc1))\n",
    "    #量子回路表示\n",
    "    print(qc1)"
   ]
  },
  {
   "cell_type": "markdown",
   "metadata": {},
   "source": [
    "### <span style=\"color: red; \">B. Generate Bell State</span>\n",
    "入力：|00> , 整数{0,1,2,3}\n",
    "<br>\n",
    "出力：４つのベル状態"
   ]
  },
  {
   "cell_type": "code",
   "execution_count": 16,
   "metadata": {},
   "outputs": [
    {
     "name": "stdout",
     "output_type": "stream",
     "text": [
      "3\n",
      "         ┌───┐               \n",
      "q8_0: |0>┤ H ├──■────────────\n",
      "         └───┘┌─┴─┐┌───┐┌───┐\n",
      "q8_1: |0>─────┤ X ├┤ Z ├┤ X ├\n",
      "              └───┘└───┘└───┘\n",
      " c8_0: 0 ════════════════════\n",
      "                             \n",
      " c8_1: 0 ════════════════════\n",
      "                             \n"
     ]
    }
   ],
   "source": [
    "q2 = QuantumRegister(2)\n",
    "c2 = ClassicalRegister(2)\n",
    "qc2 = QuantumCircuit(q2,c2) \n",
    "\n",
    "def generateB_0(qc):\n",
    "    #第一ビットにアダマール\n",
    "    qc.h(0)\n",
    "    #２ビットにCXゲート\n",
    "    qc.cx(0,1)\n",
    "\n",
    "generateB_0(qc2)\n",
    "\n",
    "index = int(input())\n",
    "if index % 2 == 1:\n",
    "    qc2.z(1)\n",
    "if index // 2 == 1:\n",
    "    qc2.x(1)\n",
    "\n",
    "print(qc2)"
   ]
  },
  {
   "cell_type": "markdown",
   "metadata": {},
   "source": [
    "### C.Generate GHZ state\n",
    "入力：Nビット量子状態\n",
    "$$\n",
    "|0...0> (1 \\leqq N \\leqq 8)\n",
    "$$\n",
    "<br>\n",
    "出力：(Greenberger-Horne-Zeilinger state)\n",
    "$$ \n",
    "    |GHZ> \\ = \\  \\frac{|0...0> + |1...1>} {\\sqrt{2}}\n",
    "$$"
   ]
  },
  {
   "cell_type": "code",
   "execution_count": 17,
   "metadata": {},
   "outputs": [
    {
     "name": "stdout",
     "output_type": "stream",
     "text": [
      "N >>> 4\n",
      "{'1111': 504, '0000': 496}\n",
      "         ┌───┐                     ┌─┐   \n",
      "q9_0: |0>┤ H ├──■────■───────■─────┤M├───\n",
      "         └───┘┌─┴─┐  │  ┌─┐  │     └╥┘   \n",
      "q9_1: |0>─────┤ X ├──┼──┤M├──┼──────╫────\n",
      "              └───┘┌─┴─┐└╥┘  │  ┌─┐ ║    \n",
      "q9_2: |0>──────────┤ X ├─╫───┼──┤M├─╫────\n",
      "                   └───┘ ║ ┌─┴─┐└╥┘ ║ ┌─┐\n",
      "q9_3: |0>────────────────╫─┤ X ├─╫──╫─┤M├\n",
      "                         ║ └───┘ ║  ║ └╥┘\n",
      " c9_0: 0 ════════════════╬═══════╬══╩══╬═\n",
      "                         ║       ║     ║ \n",
      " c9_1: 0 ════════════════╩═══════╬═════╬═\n",
      "                                 ║     ║ \n",
      " c9_2: 0 ════════════════════════╩═════╬═\n",
      "                                       ║ \n",
      " c9_3: 0 ══════════════════════════════╩═\n",
      "                                         \n"
     ]
    }
   ],
   "source": [
    "N = int(input(\"N >>> \"))\n",
    "qN = QuantumRegister(N)\n",
    "cN = ClassicalRegister(N)\n",
    "qcN = QuantumCircuit(qN , cN)\n",
    "\n",
    "#第一ビットにアダマール\n",
    "qcN.h(0)\n",
    "\n",
    "if N >= 2:\n",
    "    qcN.cx(0,1)\n",
    "\n",
    "#第１，２ビットと第３ビット以降を順々にCCXゲートを適用\n",
    "M = N-2\n",
    "if 1 <= M:\n",
    "    for i in range(2,M + 2):\n",
    "        qcN.cx(0,i)\n",
    "else:\n",
    "    pass\n",
    "\n",
    "\n",
    "#結果表示\n",
    "qcN.measure(qN,cN)\n",
    "print(get_result(qcN))\n",
    "print(qcN)\n"
   ]
  },
  {
   "cell_type": "markdown",
   "metadata": {},
   "source": [
    "### D. Distinguish plus state and minus state\n",
    "入力：|+> or |->\n",
    "<br>\n",
    "出力：|+> or |->　を測定によって判別"
   ]
  },
  {
   "cell_type": "code",
   "execution_count": 31,
   "metadata": {},
   "outputs": [
    {
     "name": "stdout",
     "output_type": "stream",
     "text": [
      "input state:{|+> ('p')} or {|-> ('n')} >>> n\n",
      "state:|->\n",
      "judge:|->\n"
     ]
    }
   ],
   "source": [
    "#入力量子ビットの作成=＝＝＝＝＝＝＝＝＝＝＝＝＝\n",
    "state=input(\"input state:{|+> ('p')} or {|-> ('n')} >>> \")\n",
    "q1 = QuantumRegister(1)\n",
    "c1 = ClassicalRegister(1)\n",
    "qc1 = QuantumCircuit(q1 , c1)\n",
    "\n",
    "if state == \"p\":\n",
    "    qc1.h(0)\n",
    "    print(\"state:|+>\")\n",
    "elif state == \"n\":\n",
    "    qc1.x(0)\n",
    "    qc1.h(0)\n",
    "    print(\"state:|->\")\n",
    "#=＝＝＝＝＝＝＝＝＝＝＝＝＝＝＝＝＝＝＝＝＝＝＝\n",
    "\n",
    "#判定プログラム＝＝＝＝＝＝＝＝＝＝＝＝＝＝＝＝＝\n",
    "qc1.h(0)\n",
    "qc1.measure(q1,c1)\n",
    "measure_result = get_result(qc1)\n",
    "\n",
    "for bit in measure_result:\n",
    "    if bit == \"0\":\n",
    "        print(\"judge:|+>\")\n",
    "    elif bit == \"1\":\n",
    "        print(\"judge:|->\")\n",
    "    else:\n",
    "        print(\"ERROR\")\n",
    "#=＝＝＝＝＝＝＝＝＝＝＝＝＝＝＝＝＝＝＝＝＝＝＝"
   ]
  },
  {
   "cell_type": "markdown",
   "metadata": {},
   "source": [
    "# ===================================="
   ]
  },
  {
   "cell_type": "markdown",
   "metadata": {},
   "source": [
    "### <span style=\"color: red; \"> E. Distinguish Bell State </span> \n",
    "入力：Bで出てきた４つのベル状態\n",
    "<br>\n",
    "出力：どのベル状態かを判別"
   ]
  },
  {
   "cell_type": "code",
   "execution_count": 28,
   "metadata": {},
   "outputs": [
    {
     "name": "stdout",
     "output_type": "stream",
     "text": [
      "select Bell state {0,1,2,3} >>> \n",
      "3\n",
      "          ┌───┐                    ┌───┐\n",
      "q74_0: |0>┤ H ├──■──────────────■──┤ H ├\n",
      "          └───┘┌─┴─┐┌───┐┌───┐┌─┴─┐└───┘\n",
      "q74_1: |0>─────┤ X ├┤ Z ├┤ X ├┤ X ├─────\n",
      "               └───┘└───┘└───┘└───┘     \n",
      " c73_0: 0 ══════════════════════════════\n",
      "                                        \n",
      " c73_1: 0 ══════════════════════════════\n",
      "                                        \n"
     ]
    },
    {
     "ename": "CircuitError",
     "evalue": "'register not in this circuit'",
     "output_type": "error",
     "traceback": [
      "\u001b[0;31m---------------------------------------------------------------------------\u001b[0m",
      "\u001b[0;31mCircuitError\u001b[0m                              Traceback (most recent call last)",
      "\u001b[0;32m<ipython-input-28-05881aad24ee>\u001b[0m in \u001b[0;36m<module>\u001b[0;34m\u001b[0m\n\u001b[1;32m     48\u001b[0m \u001b[0mqc_Bi\u001b[0m\u001b[0;34m.\u001b[0m\u001b[0mh\u001b[0m\u001b[0;34m(\u001b[0m\u001b[0;36m0\u001b[0m\u001b[0;34m)\u001b[0m\u001b[0;34m\u001b[0m\u001b[0;34m\u001b[0m\u001b[0m\n\u001b[1;32m     49\u001b[0m \u001b[0mprint\u001b[0m\u001b[0;34m(\u001b[0m\u001b[0mqc_Bi\u001b[0m\u001b[0;34m)\u001b[0m\u001b[0;34m\u001b[0m\u001b[0;34m\u001b[0m\u001b[0m\n\u001b[0;32m---> 50\u001b[0;31m \u001b[0mqc_Bi\u001b[0m\u001b[0;34m.\u001b[0m\u001b[0mmeasure\u001b[0m\u001b[0;34m(\u001b[0m\u001b[0mq_Bi\u001b[0m\u001b[0;34m,\u001b[0m\u001b[0mc_Bi\u001b[0m\u001b[0;34m)\u001b[0m\u001b[0;34m\u001b[0m\u001b[0;34m\u001b[0m\u001b[0m\n\u001b[0m\u001b[1;32m     51\u001b[0m \u001b[0mprint\u001b[0m\u001b[0;34m(\u001b[0m\u001b[0mget_result\u001b[0m\u001b[0;34m(\u001b[0m\u001b[0mqc_Bi\u001b[0m\u001b[0;34m)\u001b[0m\u001b[0;34m)\u001b[0m\u001b[0;34m\u001b[0m\u001b[0;34m\u001b[0m\u001b[0m\n",
      "\u001b[0;32m/Library/Python/3.7/site-packages/qiskit/circuit/measure.py\u001b[0m in \u001b[0;36mmeasure\u001b[0;34m(self, qubit, cbit)\u001b[0m\n\u001b[1;32m     56\u001b[0m             \u001b[0;32mif\u001b[0m \u001b[0mcbit\u001b[0m \u001b[0;32mis\u001b[0m \u001b[0;32mnot\u001b[0m \u001b[0;32min\u001b[0m \u001b[0mthis\u001b[0m \u001b[0mcircuit\u001b[0m \u001b[0;32mor\u001b[0m \u001b[0;32mnot\u001b[0m \u001b[0mcreg\u001b[0m\u001b[0;34m.\u001b[0m\u001b[0;34m\u001b[0m\u001b[0;34m\u001b[0m\u001b[0m\n\u001b[1;32m     57\u001b[0m     \"\"\"\n\u001b[0;32m---> 58\u001b[0;31m     \u001b[0;32mreturn\u001b[0m \u001b[0mself\u001b[0m\u001b[0;34m.\u001b[0m\u001b[0mappend\u001b[0m\u001b[0;34m(\u001b[0m\u001b[0mMeasure\u001b[0m\u001b[0;34m(\u001b[0m\u001b[0;34m)\u001b[0m\u001b[0;34m,\u001b[0m \u001b[0;34m[\u001b[0m\u001b[0mqubit\u001b[0m\u001b[0;34m]\u001b[0m\u001b[0;34m,\u001b[0m \u001b[0;34m[\u001b[0m\u001b[0mcbit\u001b[0m\u001b[0;34m]\u001b[0m\u001b[0;34m)\u001b[0m\u001b[0;34m\u001b[0m\u001b[0;34m\u001b[0m\u001b[0m\n\u001b[0m\u001b[1;32m     59\u001b[0m \u001b[0;34m\u001b[0m\u001b[0m\n\u001b[1;32m     60\u001b[0m \u001b[0;34m\u001b[0m\u001b[0m\n",
      "\u001b[0;32m/Library/Python/3.7/site-packages/qiskit/circuit/quantumcircuit.py\u001b[0m in \u001b[0;36mappend\u001b[0;34m(self, instruction, qargs, cargs)\u001b[0m\n\u001b[1;32m    461\u001b[0m         \u001b[0minstructions\u001b[0m \u001b[0;34m=\u001b[0m \u001b[0mInstructionSet\u001b[0m\u001b[0;34m(\u001b[0m\u001b[0;34m)\u001b[0m\u001b[0;34m\u001b[0m\u001b[0;34m\u001b[0m\u001b[0m\n\u001b[1;32m    462\u001b[0m         \u001b[0;32mfor\u001b[0m \u001b[0;34m(\u001b[0m\u001b[0mqarg\u001b[0m\u001b[0;34m,\u001b[0m \u001b[0mcarg\u001b[0m\u001b[0;34m)\u001b[0m \u001b[0;32min\u001b[0m \u001b[0minstruction\u001b[0m\u001b[0;34m.\u001b[0m\u001b[0mbroadcast_arguments\u001b[0m\u001b[0;34m(\u001b[0m\u001b[0mexpanded_qargs\u001b[0m\u001b[0;34m,\u001b[0m \u001b[0mexpanded_cargs\u001b[0m\u001b[0;34m)\u001b[0m\u001b[0;34m:\u001b[0m\u001b[0;34m\u001b[0m\u001b[0;34m\u001b[0m\u001b[0m\n\u001b[0;32m--> 463\u001b[0;31m             \u001b[0minstructions\u001b[0m\u001b[0;34m.\u001b[0m\u001b[0madd\u001b[0m\u001b[0;34m(\u001b[0m\u001b[0mself\u001b[0m\u001b[0;34m.\u001b[0m\u001b[0m_append\u001b[0m\u001b[0;34m(\u001b[0m\u001b[0minstruction\u001b[0m\u001b[0;34m,\u001b[0m \u001b[0mqarg\u001b[0m\u001b[0;34m,\u001b[0m \u001b[0mcarg\u001b[0m\u001b[0;34m)\u001b[0m\u001b[0;34m,\u001b[0m \u001b[0mqarg\u001b[0m\u001b[0;34m,\u001b[0m \u001b[0mcarg\u001b[0m\u001b[0;34m)\u001b[0m\u001b[0;34m\u001b[0m\u001b[0;34m\u001b[0m\u001b[0m\n\u001b[0m\u001b[1;32m    464\u001b[0m         \u001b[0;32mreturn\u001b[0m \u001b[0minstructions\u001b[0m\u001b[0;34m\u001b[0m\u001b[0;34m\u001b[0m\u001b[0m\n\u001b[1;32m    465\u001b[0m \u001b[0;34m\u001b[0m\u001b[0m\n",
      "\u001b[0;32m/Library/Python/3.7/site-packages/qiskit/circuit/quantumcircuit.py\u001b[0m in \u001b[0;36m_append\u001b[0;34m(self, instruction, qargs, cargs)\u001b[0m\n\u001b[1;32m    485\u001b[0m         \u001b[0;31m# do some compatibility checks\u001b[0m\u001b[0;34m\u001b[0m\u001b[0;34m\u001b[0m\u001b[0;34m\u001b[0m\u001b[0m\n\u001b[1;32m    486\u001b[0m         \u001b[0mself\u001b[0m\u001b[0;34m.\u001b[0m\u001b[0m_check_dups\u001b[0m\u001b[0;34m(\u001b[0m\u001b[0mqargs\u001b[0m\u001b[0;34m)\u001b[0m\u001b[0;34m\u001b[0m\u001b[0;34m\u001b[0m\u001b[0m\n\u001b[0;32m--> 487\u001b[0;31m         \u001b[0mself\u001b[0m\u001b[0;34m.\u001b[0m\u001b[0m_check_qargs\u001b[0m\u001b[0;34m(\u001b[0m\u001b[0mqargs\u001b[0m\u001b[0;34m)\u001b[0m\u001b[0;34m\u001b[0m\u001b[0;34m\u001b[0m\u001b[0m\n\u001b[0m\u001b[1;32m    488\u001b[0m         \u001b[0mself\u001b[0m\u001b[0;34m.\u001b[0m\u001b[0m_check_cargs\u001b[0m\u001b[0;34m(\u001b[0m\u001b[0mcargs\u001b[0m\u001b[0;34m)\u001b[0m\u001b[0;34m\u001b[0m\u001b[0;34m\u001b[0m\u001b[0m\n\u001b[1;32m    489\u001b[0m \u001b[0;34m\u001b[0m\u001b[0m\n",
      "\u001b[0;32m/Library/Python/3.7/site-packages/qiskit/circuit/quantumcircuit.py\u001b[0m in \u001b[0;36m_check_qargs\u001b[0;34m(self, qargs)\u001b[0m\n\u001b[1;32m    560\u001b[0m             \u001b[0;32mraise\u001b[0m \u001b[0mCircuitError\u001b[0m\u001b[0;34m(\u001b[0m\u001b[0;34m\"qarg is not a Qubit\"\u001b[0m\u001b[0;34m)\u001b[0m\u001b[0;34m\u001b[0m\u001b[0;34m\u001b[0m\u001b[0m\n\u001b[1;32m    561\u001b[0m         \u001b[0;32mif\u001b[0m \u001b[0;32mnot\u001b[0m \u001b[0mall\u001b[0m\u001b[0;34m(\u001b[0m\u001b[0mself\u001b[0m\u001b[0;34m.\u001b[0m\u001b[0mhas_register\u001b[0m\u001b[0;34m(\u001b[0m\u001b[0mi\u001b[0m\u001b[0;34m.\u001b[0m\u001b[0mregister\u001b[0m\u001b[0;34m)\u001b[0m \u001b[0;32mfor\u001b[0m \u001b[0mi\u001b[0m \u001b[0;32min\u001b[0m \u001b[0mqargs\u001b[0m\u001b[0;34m)\u001b[0m\u001b[0;34m:\u001b[0m\u001b[0;34m\u001b[0m\u001b[0;34m\u001b[0m\u001b[0m\n\u001b[0;32m--> 562\u001b[0;31m             \u001b[0;32mraise\u001b[0m \u001b[0mCircuitError\u001b[0m\u001b[0;34m(\u001b[0m\u001b[0;34m\"register not in this circuit\"\u001b[0m\u001b[0;34m)\u001b[0m\u001b[0;34m\u001b[0m\u001b[0;34m\u001b[0m\u001b[0m\n\u001b[0m\u001b[1;32m    563\u001b[0m \u001b[0;34m\u001b[0m\u001b[0m\n\u001b[1;32m    564\u001b[0m     \u001b[0;32mdef\u001b[0m \u001b[0m_check_cargs\u001b[0m\u001b[0;34m(\u001b[0m\u001b[0mself\u001b[0m\u001b[0;34m,\u001b[0m \u001b[0mcargs\u001b[0m\u001b[0;34m)\u001b[0m\u001b[0;34m:\u001b[0m\u001b[0;34m\u001b[0m\u001b[0;34m\u001b[0m\u001b[0m\n",
      "\u001b[0;31mCircuitError\u001b[0m: 'register not in this circuit'"
     ]
    }
   ],
   "source": [
    "#４つのベル状態生成===========================\n",
    "q0 = QuantumRegister(2)\n",
    "c0 = ClassicalRegister(2)\n",
    "qc0 = QuantumCircuit(q0,c0) \n",
    "\n",
    "q1 = QuantumRegister(2)\n",
    "c1 = ClassicalRegister(2)\n",
    "qc1 = QuantumCircuit(q1,c1) \n",
    "\n",
    "q2 = QuantumRegister(2)\n",
    "c2 = ClassicalRegister(2)\n",
    "qc2 = QuantumCircuit(q2,c2)\n",
    "\n",
    "q3 = QuantumRegister(2)\n",
    "c3 = ClassicalRegister(2)\n",
    "qc3 = QuantumCircuit(q3,c3) \n",
    "\n",
    "def generateB_0(qc):\n",
    "    #第一ビットにアダマール\n",
    "    qc.h(0)\n",
    "    #２ビットにCXゲート\n",
    "    qc.cx(0,1)\n",
    "\n",
    "generateB_0(qc0)\n",
    "generateB_0(qc1)\n",
    "generateB_0(qc2)\n",
    "generateB_0(qc3)\n",
    "\n",
    "Bell_state = [qc0,qc1,qc2,qc3]\n",
    "\n",
    "for i in range(0,4):\n",
    "    if i % 2 == 1:\n",
    "        Bell_state[i].z(1)\n",
    "    if i // 2 == 1:\n",
    "        Bell_state[i].x(1)\n",
    "    #print(\"Bell_state\",i)\n",
    "    #print(Bell_state[i])\n",
    "#=============================================\n",
    "\n",
    "#判定プログラム\n",
    "print(\"select Bell state {0,1,2,3} >>> \")\n",
    "i = int(input())\n",
    "q_Bi = QuantumRegister(2)\n",
    "c_Bi = ClassicalRegister(2)\n",
    "qc_Bi = Bell_state[i]\n",
    "\n",
    "qc_Bi.cx(0,1)\n",
    "qc_Bi.h(0)\n",
    "print(qc_Bi)\n",
    "qc_Bi.measure(q_Bi,c_Bi)\n",
    "print(get_result(qc_Bi))"
   ]
  },
  {
   "cell_type": "markdown",
   "metadata": {},
   "source": [
    "### F. Distinguish multi-qubit basis states\n",
    "入力：一つの量子ビット列と ビット列を表現する２つのBool列\n",
    "<br>\n",
    "e.g.<pre> |10> , [True,False] -> 10 , [True,True] -> 11 </pre>\n",
    "<br>\n",
    "２つのBool列は少なくとも一箇所異なっていることが保証されている。\n",
    "<br>\n",
    "<br>\n",
    "出力：与えられた量子ビット列がどちらのビット列によって表されているかを判別"
   ]
  },
  {
   "cell_type": "code",
   "execution_count": 40,
   "metadata": {},
   "outputs": [
    {
     "name": "stdout",
     "output_type": "stream",
     "text": [
      "enter length of qubit >>> 3\n",
      "enter 0 st bit of qubit >>> \n",
      "1\n",
      "enter 1 st bit of qubit >>> \n",
      "1\n",
      "enter 2 st bit of qubit >>> \n",
      "1\n",
      "enter 0 st bit of Bool1 >>> \n",
      "1\n",
      "enter 1 st bit of Bool1 >>> \n",
      "1\n",
      "enter 2 st bit of Bool1 >>> \n",
      "1\n",
      "enter 0 st bit of Bool2 >>> \n",
      "1\n",
      "enter 1 st bit of Bool2 >>> \n",
      "1\n",
      "enter 2 st bit of Bool2 >>> \n",
      "1\n",
      "qubit\n",
      "          ┌───┐\n",
      "q41_0: |0>┤ X ├\n",
      "          ├───┤\n",
      "q41_1: |0>┤ X ├\n",
      "          ├───┤\n",
      "q41_2: |0>┤ X ├\n",
      "          └───┘\n",
      " c41_0: 0 ═════\n",
      "               \n",
      " c41_1: 0 ═════\n",
      "               \n",
      " c41_2: 0 ═════\n",
      "               \n",
      "Bool1: [True, True, True]\n",
      "Bool2: [True, True, True]\n"
     ]
    }
   ],
   "source": [
    "#入力===========================\n",
    "#量子ビット\n",
    "N = int(input(\"enter length of qubit >>> \"))\n",
    "qN = QuantumRegister(N)\n",
    "cN = ClassicalRegister(N)\n",
    "qcN = QuantumCircuit(qN,cN) \n",
    "qubit = [0]*N\n",
    "for i in range(len(qubit)):\n",
    "    print(\"enter\" , i , \"st bit of qubit >>> \")\n",
    "    buffer = int(input())\n",
    "    qubit[i] = buffer\n",
    "    if buffer == 0:\n",
    "        pass\n",
    "    elif buffer == 1:\n",
    "        qcN.x(i)\n",
    "    else:\n",
    "        pass\n",
    "    \n",
    "#Bool列\n",
    "Bool1 = [True]*N\n",
    "Bool2 = [True]*N\n",
    "for i in range(len(Bool1)):\n",
    "    print(\"enter\" , i , \"st bit of Bool1 >>> \")\n",
    "    Bool1[i] = bool(input())\n",
    "for i in range(len(Bool2)):\n",
    "    print(\"enter\" , i , \"st bit of Bool2 >>> \")\n",
    "    Bool2[i] = bool(input())\n",
    "    \n",
    "print(\"qubit\")\n",
    "print(qcN)\n",
    "print(\"Bool1:\" , Bool1)\n",
    "print(\"Bool2:\" , Bool2)\n",
    "#===============================\n",
    "\n"
   ]
  },
  {
   "cell_type": "markdown",
   "metadata": {},
   "source": [
    "### G. Oracle for f(x)=k-th element of x\n",
    "入力：量子ビット列xと出力となる量子ビットy、そして整数k\n",
    "<br>\n",
    "出力：xのk番目の量子ビットが|0>なら何もせず、|1>なら出力となるyのビットを反転するオラクル"
   ]
  },
  {
   "cell_type": "code",
   "execution_count": 37,
   "metadata": {},
   "outputs": [
    {
     "name": "stdout",
     "output_type": "stream",
     "text": [
      "enter length of qubit x >>> 3\n",
      "enter length of qubit y >>> 3\n",
      "enter 0 st bit of qubit_x >>> \n",
      "1\n",
      "enter 1 st bit of qubit_x >>> \n",
      "1\n",
      "enter 2 st bit of qubit_x >>> \n",
      "0\n",
      "enter 0 st bit of qubit_y >>> \n",
      "0\n",
      "enter 1 st bit of qubit_y >>> \n",
      "1\n",
      "enter 2 st bit of qubit_y >>> \n",
      "1\n",
      "          ┌───┐\n",
      "q37_0: |0>┤ X ├\n",
      "          ├───┤\n",
      "q37_1: |0>┤ X ├\n",
      "          └───┘\n",
      "q37_2: |0>─────\n",
      "               \n",
      " c37_0: 0 ═════\n",
      "               \n",
      " c37_1: 0 ═════\n",
      "               \n",
      " c37_2: 0 ═════\n",
      "                               \n",
      "q38_0: |0>─────\n",
      "          ┌───┐\n",
      "q38_1: |0>┤ X ├\n",
      "          ├───┤\n",
      "q38_2: |0>┤ X ├\n",
      "          └───┘\n",
      " c38_0: 0 ═════\n",
      "               \n",
      " c38_1: 0 ═════\n",
      "               \n",
      " c38_2: 0 ═════\n",
      "               \n"
     ]
    }
   ],
   "source": [
    "#入力===========================\n",
    "#量子ビットx 初期化\n",
    "Nx = int(input(\"enter length of qubit x >>> \"))\n",
    "qNx = QuantumRegister(Nx)\n",
    "cNx = ClassicalRegister(Nx)\n",
    "qcNx = QuantumCircuit(qNx,cNx)\n",
    "#量子ビットy 初期化\n",
    "Ny = int(input(\"enter length of qubit y >>> \"))\n",
    "qNy = QuantumRegister(Ny)\n",
    "cNy = ClassicalRegister(Ny)\n",
    "qcNy = QuantumCircuit(qNy,cNy)\n",
    "\n",
    "#量子ビットx セット\n",
    "qubitx = [0]*Nx\n",
    "for i in range(len(qubitx)):\n",
    "    print(\"enter\" , i , \"st bit of qubit_x >>> \")\n",
    "    buffer = int(input())\n",
    "    qubitx[i] = buffer\n",
    "    if buffer == 0:\n",
    "        pass\n",
    "    elif buffer == 1:\n",
    "        qcNx.x(i)\n",
    "    else:\n",
    "        pass\n",
    "\n",
    "#量子ビットy セット\n",
    "qubity = [0]*Ny\n",
    "for i in range(len(qubity)):\n",
    "    print(\"enter\" , i , \"st bit of qubit_y >>> \")\n",
    "    buffer = int(input())\n",
    "    qubity[i] = buffer\n",
    "    if buffer == 0:\n",
    "        pass\n",
    "    elif buffer == 1:\n",
    "        qcNy.x(i)\n",
    "    else:\n",
    "        pass\n",
    "    \n",
    "print(\"qubit_x\")\n",
    "print(qcNx)\n",
    "print(\"qubit_y\")\n",
    "print(qcNy)\n",
    "#==============================="
   ]
  },
  {
   "cell_type": "markdown",
   "metadata": {},
   "source": [
    "### ***H. Oracle for f(x) = parity of the number of 1s in x***\n",
    "入力：量子ビット列x(n qbit)と出力となる量子ビットy(1 qbit)\n",
    "<br>\n",
    "出力：xのうち|1>の数が偶数なら何もせず、奇数だったら出力ビットを反転するオラクル"
   ]
  },
  {
   "cell_type": "code",
   "execution_count": 27,
   "metadata": {},
   "outputs": [
    {
     "output_type": "stream",
     "name": "stdout",
     "text": [
      "        ░            ░  ░            ░ \nq27_0: ─░────────────░──░────────────░─\n        ░ ┌───┐      ░  ░            ░ \nq27_1: ─░─┤ X ├──■───░──░────────────░─\n        ░ └───┘  │   ░  ░            ░ \nq27_2: ─░────────┼───░──░────────────░─\n        ░        │   ░  ░ ┌───┐      ░ \nq27_3: ─░────────┼───░──░─┤ X ├──■───░─\n        ░      ┌─┴─┐ ░  ░ └───┘┌─┴─┐ ░ \nq27_4: ─░──────┤ X ├─░──░──────┤ X ├─░─\n        ░      └───┘ ░  ░      └───┘ ░ \nc21: 5/════════════════════════════════\n                                       \n"
     ]
    }
   ],
   "source": [
    "from qiskit_basic_kit import *\n",
    "# 入力 =============================================\n",
    "X = [0,1,0,1]\n",
    "N = len(X) + 1\n",
    "# 量子回路 =====================================\n",
    "qN = QuantumRegister(N)\n",
    "cN = ClassicalRegister(N)\n",
    "qcN = QuantumCircuit(qN,cN)\n",
    "\n",
    "# 解 =============================================\n",
    "for i in range(len(X)):\n",
    "    if X[i] == 0:\n",
    "        pass\n",
    "    else:\n",
    "        qcN.x(i)\n",
    "        qcN.cx(i,N-1)\n",
    "    qcN.barrier()\n",
    "print(qcN)"
   ]
  },
  {
   "cell_type": "markdown",
   "metadata": {},
   "source": [
    "### I. Deutsch-Jozsa algorithm\n",
    "入力：n qbit\n",
    "<br>\n",
    "出力：入力がバランスかコンスタントかを判定"
   ]
  },
  {
   "cell_type": "code",
   "execution_count": 13,
   "metadata": {},
   "outputs": [
    {
     "output_type": "stream",
     "name": "stdout",
     "text": [
      "            \nq16_0: ──■──\n       ┌─┴─┐\nq16_1: ┤ X ├\n       └───┘\nq16_2: ─────\n            \nq16_3: ─────\n            \nc10: 4/═════\n            \n"
     ]
    }
   ],
   "source": []
  },
  {
   "cell_type": "code",
   "execution_count": null,
   "metadata": {},
   "outputs": [],
   "source": []
  }
 ],
 "metadata": {
  "kernelspec": {
   "display_name": "Python 3",
   "language": "python",
   "name": "python3"
  },
  "language_info": {
   "codemirror_mode": {
    "name": "ipython",
    "version": 3
   },
   "file_extension": ".py",
   "mimetype": "text/x-python",
   "name": "python",
   "nbconvert_exporter": "python",
   "pygments_lexer": "ipython3",
   "version": "3.8.0-final"
  }
 },
 "nbformat": 4,
 "nbformat_minor": 2
}