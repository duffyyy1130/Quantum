{
 "cells": [
  {
   "cell_type": "markdown",
   "metadata": {},
   "source": [
    "### E. Distinguish Bell states"
   ]
  },
  {
   "cell_type": "code",
   "execution_count": 1,
   "metadata": {},
   "outputs": [
    {
     "name": "stderr",
     "output_type": "stream",
     "text": [
      "/snippet_.qs(4,12): error QS5022: No identifier with the name \"ResultArrayAsInt\" exists.\n"
     ]
    }
   ],
   "source": [
    "operation Solve (qs:Qubit[]) : Int{\n",
    "    CNOT(qs[0],qs[1]);\n",
    "    H(qs[0]);\n",
    "    return ResultArrayAsInt([M(qs[0]),M(qs[1])]);\n",
    "}"
   ]
  },
  {
   "cell_type": "code",
   "execution_count": 2,
   "metadata": {},
   "outputs": [
    {
     "name": "stderr",
     "output_type": "stream",
     "text": [
      "Invalid operation name: Solve\n"
     ]
    }
   ],
   "source": [
    "%simulate Solve"
   ]
  },
  {
   "cell_type": "code",
   "execution_count": 4,
   "metadata": {},
   "outputs": [
    {
     "data": {
      "application/json": "[\"Solve\"]",
      "text/html": [
       "<ul><li>Solve</li></ul>"
      ],
      "text/plain": [
       "Solve"
      ]
     },
     "execution_count": 4,
     "metadata": {},
     "output_type": "execute_result"
    }
   ],
   "source": [
    "operation Solve (q:Qubit , sign:Int) : Unit{\n",
    "    if (sign == -1){\n",
    "        X(q);\n",
    "    }\n",
    "    H(q);\n",
    "}"
   ]
  },
  {
   "cell_type": "code",
   "execution_count": 8,
   "metadata": {},
   "outputs": [
    {
     "name": "stderr",
     "output_type": "stream",
     "text": [
      "Error reading JObject from JsonReader. Current JsonReader item is not an object: Undefined. Path '', line 1, position 0.\n"
     ]
    }
   ],
   "source": [
    "%simulate Solve(Qubit() , 2)"
   ]
  },
  {
   "cell_type": "code",
   "execution_count": null,
   "metadata": {},
   "outputs": [],
   "source": []
  }
 ],
 "metadata": {
  "kernelspec": {
   "display_name": "Q#",
   "language": "qsharp",
   "name": "iqsharp"
  },
  "language_info": {
   "file_extension": ".qs",
   "mimetype": "text/x-qsharp",
   "name": "qsharp",
   "version": "0.4"
  }
 },
 "nbformat": 4,
 "nbformat_minor": 2
}
